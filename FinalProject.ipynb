{
 "cells": [
  {
   "cell_type": "markdown",
   "metadata": {
    "button": false,
    "new_sheet": false,
    "run_control": {
     "read_only": false
    }
   },
   "source": [
    "# Final Project"
   ]
  },
  {
   "cell_type": "markdown",
   "metadata": {
    "button": false,
    "new_sheet": false,
    "run_control": {
     "read_only": false
    }
   },
   "source": [
    "Group Number: 070  \n",
    "Project Title: How to survive University  \n",
    "Team Name: Zuckerborgs  \n",
    "Team Member:  \n",
    "Sarah Bender-Resnik                  solsabrsk   \n",
    "Da Gong                              Dagong3706            \n",
    "Christian Lim                        christianxlim              \n",
    "Alex Phan                            APhan1337               \n",
    "Yushan Wang                          YushanWang9801               \n",
    "Jiemin Tang                          jiemintang "
   ]
  },
  {
   "cell_type": "markdown",
   "metadata": {},
   "source": [
    "# PID:"
   ]
  },
  {
   "cell_type": "markdown",
   "metadata": {},
   "source": [
    "Da Gong                A15087556 \n",
    "\n",
    "Yushan Wang            A14459085 \n",
    "\n",
    "Jiemin Tang            A13948547\n",
    "\n",
    "Christian Lim          A15710032\n",
    "\n",
    "Alex Phan              A12998302\n",
    "\n",
    "Sarah Bender-Resnik    A12891790"
   ]
  },
  {
   "cell_type": "markdown",
   "metadata": {},
   "source": [
    "# Background: \n",
    "Every year, there are three million freshman students in the United States trying to choose their most desirable college among the offers they received, and it is a tedious process without doubt. According to the College Scorecard Data provided by the U.S. Department of Education, there are 6418 colleges in the United States, and these colleges can be divided into three major types: Private for-profit, Private nonprofit, and Public. "
   ]
  },
  {
   "cell_type": "markdown",
   "metadata": {},
   "source": [
    "# Overview"
   ]
  },
  {
   "cell_type": "markdown",
   "metadata": {},
   "source": [
    "We deployed the dataset from the U.S. Department of Education. From the data source we found, we researched the relationship between multiple educational areas and SAT scores. \n"
   ]
  },
  {
   "cell_type": "markdown",
   "metadata": {},
   "source": [
    "# Research questions and Hypothesis list\n",
    "\n",
    "Q1: Is there a strong relation existed between average admission sat score of a school and its on-time completion rate?\n",
    "\n",
    "Q2: What is the relationship between college size and its average completion rate?\n",
    "\n",
    "Q3: What is the relationship between college type and its average completion rate?\n",
    "\n",
    "Q4: What is the relationship between college's predominant degree type and its average completion rate?\n",
    "\n",
    "Q5: What type of college should one student choose to study since he/she will highly likely to graduate easily and on-time according to his/her SAT score?\n",
    "\n",
    "Q6: What type of Predominant degrees-awarded school should one student choose to study since he/she will highly likely to graduate easily and on-time according to his/her SAT score?\n",
    "\n",
    "Q7: What size of school should one student choose to study since he/she will highly likely to graduate easily and on-time according to his/her SAT score?\n",
    "\n",
    "Q8: What kind of school should one student choose to study since he/she will highly likely to graduate easily and on-time according to his/her SAT score?\n",
    "\n",
    "Q9: What kind of school should one student apply since he/she will highly likely to get a offer easily according to his/her SAT score?\n",
    "\n",
    "Q10: What average annual net-cost of attendance in college would applicants expect to pay according to his/her SAT score?\n",
    "\n",
    "Q11: What is the probability that an applicant can graduate on-time from college based on his/her SAT score?\n",
    "\n",
    "\n",
    "Each question would be answered in below specifically."
   ]
  },
  {
   "cell_type": "markdown",
   "metadata": {
    "button": false,
    "new_sheet": false,
    "run_control": {
     "read_only": false
    }
   },
   "source": [
    "# Pre Import"
   ]
  },
  {
   "cell_type": "code",
   "execution_count": 1,
   "metadata": {
    "button": false,
    "new_sheet": false,
    "run_control": {
     "read_only": false
    }
   },
   "outputs": [],
   "source": [
    "#import all the packages needed for the project\n",
    "\n",
    "import numpy as np\n",
    "import pandas as pd\n",
    "import os\n",
    "import scipy.stats as stats\n",
    "\n",
    "#import all the packages needed for data visualization\n",
    "\n",
    "%matplotlib inline\n",
    "import folium\n",
    "import seaborn as sns\n",
    "import matplotlib.pyplot as plt"
   ]
  },
  {
   "cell_type": "markdown",
   "metadata": {
    "button": false,
    "new_sheet": false,
    "run_control": {
     "read_only": false
    }
   },
   "source": [
    "# Data source"
   ]
  },
  {
   "cell_type": "markdown",
   "metadata": {
    "button": false,
    "new_sheet": false,
    "run_control": {
     "read_only": false
    }
   },
   "source": [
    "This is the website provided by the U.S. Department of Education.: https://collegescorecard.ed.gov/\n",
    "This website allows users to check detailed information of one specific college using the search engine it provides.\n",
    "\n",
    "This is the download page of College Scorecard Data provided by the U.S. Department of Education.: https://collegescorecard.ed.gov/data/\n",
    "This website allows users to download all college information in the U.S. to execute further data analysis or information gaining. This dataset will be transferred into the pandas table and provide everything we need for our project. \n",
    "\n",
    "CollegeScorecardDataDictionary.xlsx is the dictionary for the meaning of number and column name appeared in the dataset which is provided with College Scorecard Data from the download page https://collegescorecard.ed.gov/data/.\n",
    "This excel will help this project by telling user what these number and column names stand for in dataset."
   ]
  },
  {
   "cell_type": "markdown",
   "metadata": {
    "button": false,
    "new_sheet": false,
    "run_control": {
     "read_only": false
    }
   },
   "source": [
    "# Import Database needed for the project"
   ]
  },
  {
   "cell_type": "code",
   "execution_count": 2,
   "metadata": {
    "button": false,
    "new_sheet": false,
    "run_control": {
     "read_only": false
    }
   },
   "outputs": [
    {
     "data": {
      "text/html": [
       "<div>\n",
       "<style scoped>\n",
       "    .dataframe tbody tr th:only-of-type {\n",
       "        vertical-align: middle;\n",
       "    }\n",
       "\n",
       "    .dataframe tbody tr th {\n",
       "        vertical-align: top;\n",
       "    }\n",
       "\n",
       "    .dataframe thead th {\n",
       "        text-align: right;\n",
       "    }\n",
       "</style>\n",
       "<table border=\"1\" class=\"dataframe\">\n",
       "  <thead>\n",
       "    <tr style=\"text-align: right;\">\n",
       "      <th></th>\n",
       "      <th>UNITID</th>\n",
       "      <th>OPEID</th>\n",
       "      <th>OPEID6</th>\n",
       "      <th>INSTNM</th>\n",
       "      <th>ZIP</th>\n",
       "      <th>CITY</th>\n",
       "      <th>STABBR</th>\n",
       "      <th>LATITUDE</th>\n",
       "      <th>LONGITUDE</th>\n",
       "      <th>INSTURL</th>\n",
       "      <th>...</th>\n",
       "      <th>RET_FT4_POOLED_SUPP</th>\n",
       "      <th>RET_FTL4_POOLED_SUPP</th>\n",
       "      <th>RET_PT4_POOLED_SUPP</th>\n",
       "      <th>RET_PTL4_POOLED_SUPP</th>\n",
       "      <th>PCTFLOAN</th>\n",
       "      <th>GRAD_DEBT_MDN_SUPP</th>\n",
       "      <th>GRAD_DEBT_MDN10YR_SUPP</th>\n",
       "      <th>RPY_3YR_RT_SUPP</th>\n",
       "      <th>C150_L4_POOLED_SUPP</th>\n",
       "      <th>C150_4_POOLED_SUPP</th>\n",
       "    </tr>\n",
       "  </thead>\n",
       "  <tbody>\n",
       "    <tr>\n",
       "      <th>0</th>\n",
       "      <td>100654</td>\n",
       "      <td>100200</td>\n",
       "      <td>1002</td>\n",
       "      <td>Alabama A &amp; M University</td>\n",
       "      <td>35762</td>\n",
       "      <td>Normal</td>\n",
       "      <td>AL</td>\n",
       "      <td>34.783368</td>\n",
       "      <td>-86.568502</td>\n",
       "      <td>www.aamu.edu/</td>\n",
       "      <td>...</td>\n",
       "      <td>0.5774</td>\n",
       "      <td>NaN</td>\n",
       "      <td>0.309</td>\n",
       "      <td>NaN</td>\n",
       "      <td>0.7667</td>\n",
       "      <td>32750</td>\n",
       "      <td>348.16551225731</td>\n",
       "      <td>0.2531554273</td>\n",
       "      <td>NaN</td>\n",
       "      <td>0.2913</td>\n",
       "    </tr>\n",
       "    <tr>\n",
       "      <th>1</th>\n",
       "      <td>100663</td>\n",
       "      <td>105200</td>\n",
       "      <td>1052</td>\n",
       "      <td>University of Alabama at Birmingham</td>\n",
       "      <td>35294-0110</td>\n",
       "      <td>Birmingham</td>\n",
       "      <td>AL</td>\n",
       "      <td>33.505697</td>\n",
       "      <td>-86.799345</td>\n",
       "      <td>www.uab.edu</td>\n",
       "      <td>...</td>\n",
       "      <td>0.8007</td>\n",
       "      <td>NaN</td>\n",
       "      <td>0.5178</td>\n",
       "      <td>NaN</td>\n",
       "      <td>0.5179</td>\n",
       "      <td>21833</td>\n",
       "      <td>232.106797835537</td>\n",
       "      <td>0.513963161</td>\n",
       "      <td>NaN</td>\n",
       "      <td>0.5384</td>\n",
       "    </tr>\n",
       "    <tr>\n",
       "      <th>2</th>\n",
       "      <td>100690</td>\n",
       "      <td>2503400</td>\n",
       "      <td>25034</td>\n",
       "      <td>Amridge University</td>\n",
       "      <td>36117-3553</td>\n",
       "      <td>Montgomery</td>\n",
       "      <td>AL</td>\n",
       "      <td>32.362609</td>\n",
       "      <td>-86.174010</td>\n",
       "      <td>www.amridgeuniversity.edu</td>\n",
       "      <td>...</td>\n",
       "      <td>PrivacySuppressed</td>\n",
       "      <td>NaN</td>\n",
       "      <td>PrivacySuppressed</td>\n",
       "      <td>NaN</td>\n",
       "      <td>0.8436</td>\n",
       "      <td>22890</td>\n",
       "      <td>243.343773299842</td>\n",
       "      <td>0.2307692308</td>\n",
       "      <td>NaN</td>\n",
       "      <td>PrivacySuppressed</td>\n",
       "    </tr>\n",
       "    <tr>\n",
       "      <th>3</th>\n",
       "      <td>100706</td>\n",
       "      <td>105500</td>\n",
       "      <td>1055</td>\n",
       "      <td>University of Alabama in Huntsville</td>\n",
       "      <td>35899</td>\n",
       "      <td>Huntsville</td>\n",
       "      <td>AL</td>\n",
       "      <td>34.724557</td>\n",
       "      <td>-86.640449</td>\n",
       "      <td>www.uah.edu</td>\n",
       "      <td>...</td>\n",
       "      <td>0.8161</td>\n",
       "      <td>NaN</td>\n",
       "      <td>0.5116</td>\n",
       "      <td>NaN</td>\n",
       "      <td>0.4312</td>\n",
       "      <td>22647</td>\n",
       "      <td>240.760438353933</td>\n",
       "      <td>0.5485090298</td>\n",
       "      <td>NaN</td>\n",
       "      <td>0.4905</td>\n",
       "    </tr>\n",
       "    <tr>\n",
       "      <th>4</th>\n",
       "      <td>100724</td>\n",
       "      <td>100500</td>\n",
       "      <td>1005</td>\n",
       "      <td>Alabama State University</td>\n",
       "      <td>36104-0271</td>\n",
       "      <td>Montgomery</td>\n",
       "      <td>AL</td>\n",
       "      <td>32.364317</td>\n",
       "      <td>-86.295677</td>\n",
       "      <td>www.alasu.edu</td>\n",
       "      <td>...</td>\n",
       "      <td>0.6138</td>\n",
       "      <td>NaN</td>\n",
       "      <td>0.5313</td>\n",
       "      <td>NaN</td>\n",
       "      <td>0.8113</td>\n",
       "      <td>31500</td>\n",
       "      <td>334.876752247489</td>\n",
       "      <td>0.2185867473</td>\n",
       "      <td>NaN</td>\n",
       "      <td>0.2475</td>\n",
       "    </tr>\n",
       "  </tbody>\n",
       "</table>\n",
       "<p>5 rows × 117 columns</p>\n",
       "</div>"
      ],
      "text/plain": [
       "   UNITID    OPEID  OPEID6                               INSTNM         ZIP  \\\n",
       "0  100654   100200    1002             Alabama A & M University       35762   \n",
       "1  100663   105200    1052  University of Alabama at Birmingham  35294-0110   \n",
       "2  100690  2503400   25034                   Amridge University  36117-3553   \n",
       "3  100706   105500    1055  University of Alabama in Huntsville       35899   \n",
       "4  100724   100500    1005             Alabama State University  36104-0271   \n",
       "\n",
       "         CITY STABBR   LATITUDE  LONGITUDE                    INSTURL  ...  \\\n",
       "0      Normal     AL  34.783368 -86.568502              www.aamu.edu/  ...   \n",
       "1  Birmingham     AL  33.505697 -86.799345                www.uab.edu  ...   \n",
       "2  Montgomery     AL  32.362609 -86.174010  www.amridgeuniversity.edu  ...   \n",
       "3  Huntsville     AL  34.724557 -86.640449                www.uah.edu  ...   \n",
       "4  Montgomery     AL  32.364317 -86.295677              www.alasu.edu  ...   \n",
       "\n",
       "  RET_FT4_POOLED_SUPP  RET_FTL4_POOLED_SUPP  RET_PT4_POOLED_SUPP  \\\n",
       "0              0.5774                   NaN                0.309   \n",
       "1              0.8007                   NaN               0.5178   \n",
       "2   PrivacySuppressed                   NaN    PrivacySuppressed   \n",
       "3              0.8161                   NaN               0.5116   \n",
       "4              0.6138                   NaN               0.5313   \n",
       "\n",
       "   RET_PTL4_POOLED_SUPP  PCTFLOAN  GRAD_DEBT_MDN_SUPP  GRAD_DEBT_MDN10YR_SUPP  \\\n",
       "0                   NaN    0.7667               32750         348.16551225731   \n",
       "1                   NaN    0.5179               21833        232.106797835537   \n",
       "2                   NaN    0.8436               22890        243.343773299842   \n",
       "3                   NaN    0.4312               22647        240.760438353933   \n",
       "4                   NaN    0.8113               31500        334.876752247489   \n",
       "\n",
       "   RPY_3YR_RT_SUPP  C150_L4_POOLED_SUPP  C150_4_POOLED_SUPP  \n",
       "0     0.2531554273                  NaN              0.2913  \n",
       "1      0.513963161                  NaN              0.5384  \n",
       "2     0.2307692308                  NaN   PrivacySuppressed  \n",
       "3     0.5485090298                  NaN              0.4905  \n",
       "4     0.2185867473                  NaN              0.2475  \n",
       "\n",
       "[5 rows x 117 columns]"
      ]
     },
     "execution_count": 2,
     "metadata": {},
     "output_type": "execute_result"
    }
   ],
   "source": [
    "college_path = os.path.join('data', 'MERGED2016_17_PP.csv')\n",
    "college = pd.read_csv(college_path)\n",
    "#preview of partial data \n",
    "college.head(5)"
   ]
  },
  {
   "cell_type": "code",
   "execution_count": 3,
   "metadata": {},
   "outputs": [
    {
     "data": {
      "image/png": "[encoded data removed]",
      "text/plain": [
       "<Figure size 1080x576 with 1 Axes>"
      ]
     },
     "metadata": {},
     "output_type": "display_data"
    }
   ],
   "source": [
    "#use seaborn to show the scattering colleges in the United States of America\n",
    "df=college[['CONTROL','LONGITUDE','LATITUDE','UGDS']]\n",
    "df=df[(df['LONGITUDE']>-130) & (df['LONGITUDE']<-60)]\n",
    "df=df[(df['LATITUDE']>23) & (df['LATITUDE']<55)]\n",
    "sns.set(style=\"white\")\n",
    "control = [\"Public\", \"Private nonprofit\", \"Private for-profit\"]\n",
    "#translate column name and number to show what it represents for\n",
    "temp=[]\n",
    "for i,value in df['CONTROL'].iteritems():\n",
    "    if value==1:\n",
    "        temp.append(control[0])\n",
    "    if value==2:\n",
    "        temp.append(control[1])\n",
    "    if value==3:\n",
    "        temp.append(control[2])\n",
    "df['CONTROL']=temp\n",
    "df=df.rename(columns={'UGDS':'School Size','CONTROL':'School Type'})\n",
    "#plot the picture\n",
    "a=sns.color_palette()[0:3]\n",
    "g=sns.relplot(x=\"LONGITUDE\", y=\"LATITUDE\", hue=\"School Type\", size=\"School Size\",\n",
    "            sizes=(40, 400), alpha=.5, palette=a,\n",
    "            height=4, data=df)\n",
    "g.fig.set_size_inches(15,8)"
   ]
  },
  {
   "cell_type": "markdown",
   "metadata": {
    "button": false,
    "new_sheet": false,
    "run_control": {
     "read_only": false
    }
   },
   "source": [
    "From the above scatterplot, it is clear that colleges are scattered everywhere in the United States, which makes choosing one especially hard. Although every student prefers to going to a college that is highly reputable such as Harvard and UCB, the rate of acceptance is as low as 5.4% and 16.9% in 2019 for these two colleges. Therefore, students have to prove that they are qualified for those good colleges using their SAT, ACT score, GPA, and their family fortune. \n",
    "In order to help these applicants make their choice of college wisely, a successful guide generated from all college data would help them a lot in the application as well as save their time in finding every college.\n"
   ]
  },
  {
   "cell_type": "markdown",
   "metadata": {
    "button": false,
    "new_sheet": false,
    "run_control": {
     "read_only": false
    }
   },
   "source": [
    "Above all, we decided to generate a successful application guide from analyzing the College Scorecard. We will analyze the relationship between students’ SAT score , College’s completion rate, College’s type, College’s student’s size, and College’s average salary for its graduate students and give students some advice for their application.\n"
   ]
  },
  {
   "cell_type": "markdown",
   "metadata": {
    "button": false,
    "new_sheet": false,
    "run_control": {
     "read_only": false
    }
   },
   "source": [
    "# Data Cleaning and Necessary Data Loading"
   ]
  },
  {
   "cell_type": "markdown",
   "metadata": {},
   "source": [
    "## Reasons for data cleaning\n",
    "\n",
    "there are only selected columns from the data set would be used in our researches. We would like to extract the useful data from the dataframe, and in the coding, readers would be able to see which specific columns were extratced. Since the SAT scores, discussed in the topic, do not have cumulative scores in the dataset, then we have to use math and readings to calculate the cumulative scores. "
   ]
  },
  {
   "cell_type": "code",
   "execution_count": 4,
   "metadata": {
    "button": false,
    "new_sheet": false,
    "run_control": {
     "read_only": false
    }
   },
   "outputs": [
    {
     "data": {
      "text/html": [
       "<div>\n",
       "<style scoped>\n",
       "    .dataframe tbody tr th:only-of-type {\n",
       "        vertical-align: middle;\n",
       "    }\n",
       "\n",
       "    .dataframe tbody tr th {\n",
       "        vertical-align: top;\n",
       "    }\n",
       "\n",
       "    .dataframe thead th {\n",
       "        text-align: right;\n",
       "    }\n",
       "</style>\n",
       "<table border=\"1\" class=\"dataframe\">\n",
       "  <thead>\n",
       "    <tr style=\"text-align: right;\">\n",
       "      <th></th>\n",
       "      <th>OPEID</th>\n",
       "      <th>CONTROL</th>\n",
       "      <th>UGDS</th>\n",
       "      <th>PREDDEG</th>\n",
       "      <th>SATVR25</th>\n",
       "      <th>SATVR75</th>\n",
       "      <th>SATMT25</th>\n",
       "      <th>SATMT75</th>\n",
       "      <th>SATVRMID</th>\n",
       "      <th>SATMTMID</th>\n",
       "      <th>COMPLETION RATE</th>\n",
       "      <th>SATCM25</th>\n",
       "      <th>SATCM75</th>\n",
       "      <th>SATCMMID</th>\n",
       "    </tr>\n",
       "  </thead>\n",
       "  <tbody>\n",
       "    <tr>\n",
       "      <th>0</th>\n",
       "      <td>100200</td>\n",
       "      <td>1</td>\n",
       "      <td>4616</td>\n",
       "      <td>3</td>\n",
       "      <td>380.0</td>\n",
       "      <td>470.0</td>\n",
       "      <td>370.0</td>\n",
       "      <td>470.0</td>\n",
       "      <td>425.0</td>\n",
       "      <td>420.0</td>\n",
       "      <td>0.2913</td>\n",
       "      <td>750.0</td>\n",
       "      <td>940.0</td>\n",
       "      <td>845.0</td>\n",
       "    </tr>\n",
       "    <tr>\n",
       "      <th>1</th>\n",
       "      <td>105200</td>\n",
       "      <td>1</td>\n",
       "      <td>12047</td>\n",
       "      <td>3</td>\n",
       "      <td>480.0</td>\n",
       "      <td>640.0</td>\n",
       "      <td>490.0</td>\n",
       "      <td>660.0</td>\n",
       "      <td>560.0</td>\n",
       "      <td>575.0</td>\n",
       "      <td>0.5384</td>\n",
       "      <td>970.0</td>\n",
       "      <td>1300.0</td>\n",
       "      <td>1135.0</td>\n",
       "    </tr>\n",
       "    <tr>\n",
       "      <th>2</th>\n",
       "      <td>105500</td>\n",
       "      <td>1</td>\n",
       "      <td>6346</td>\n",
       "      <td>3</td>\n",
       "      <td>520.0</td>\n",
       "      <td>660.0</td>\n",
       "      <td>540.0</td>\n",
       "      <td>680.0</td>\n",
       "      <td>590.0</td>\n",
       "      <td>610.0</td>\n",
       "      <td>0.4905</td>\n",
       "      <td>1060.0</td>\n",
       "      <td>1340.0</td>\n",
       "      <td>1200.0</td>\n",
       "    </tr>\n",
       "    <tr>\n",
       "      <th>3</th>\n",
       "      <td>100500</td>\n",
       "      <td>1</td>\n",
       "      <td>4704</td>\n",
       "      <td>3</td>\n",
       "      <td>370.0</td>\n",
       "      <td>460.0</td>\n",
       "      <td>360.0</td>\n",
       "      <td>460.0</td>\n",
       "      <td>415.0</td>\n",
       "      <td>410.0</td>\n",
       "      <td>0.2475</td>\n",
       "      <td>730.0</td>\n",
       "      <td>920.0</td>\n",
       "      <td>825.0</td>\n",
       "    </tr>\n",
       "    <tr>\n",
       "      <th>4</th>\n",
       "      <td>105100</td>\n",
       "      <td>1</td>\n",
       "      <td>31663</td>\n",
       "      <td>3</td>\n",
       "      <td>490.0</td>\n",
       "      <td>610.0</td>\n",
       "      <td>490.0</td>\n",
       "      <td>620.0</td>\n",
       "      <td>550.0</td>\n",
       "      <td>555.0</td>\n",
       "      <td>0.6793</td>\n",
       "      <td>980.0</td>\n",
       "      <td>1230.0</td>\n",
       "      <td>1105.0</td>\n",
       "    </tr>\n",
       "  </tbody>\n",
       "</table>\n",
       "</div>"
      ],
      "text/plain": [
       "    OPEID  CONTROL   UGDS  PREDDEG  SATVR25  SATVR75  SATMT25  SATMT75  \\\n",
       "0  100200        1   4616        3    380.0    470.0    370.0    470.0   \n",
       "1  105200        1  12047        3    480.0    640.0    490.0    660.0   \n",
       "2  105500        1   6346        3    520.0    660.0    540.0    680.0   \n",
       "3  100500        1   4704        3    370.0    460.0    360.0    460.0   \n",
       "4  105100        1  31663        3    490.0    610.0    490.0    620.0   \n",
       "\n",
       "   SATVRMID  SATMTMID  COMPLETION RATE  SATCM25  SATCM75  SATCMMID  \n",
       "0     425.0     420.0           0.2913    750.0    940.0     845.0  \n",
       "1     560.0     575.0           0.5384    970.0   1300.0    1135.0  \n",
       "2     590.0     610.0           0.4905   1060.0   1340.0    1200.0  \n",
       "3     415.0     410.0           0.2475    730.0    920.0     825.0  \n",
       "4     550.0     555.0           0.6793    980.0   1230.0    1105.0  "
      ]
     },
     "execution_count": 4,
     "metadata": {},
     "output_type": "execute_result"
    }
   ],
   "source": [
    "#Do some normal data cleaning processes and load data we needed in this project\n",
    "df=college[['OPEID','CONTROL','UGDS','PREDDEG','SATVR25', 'SATVR75',\\\n",
    "           'SATMT25','SATMT75','SATVRMID','SATMTMID',\\\n",
    "            'C150_L4_POOLED_SUPP','C150_4_POOLED_SUPP']].dropna(subset=['SATVR25', 'SATVR75',\\\n",
    "           'SATMT25','SATMT75','SATVRMID','SATMTMID']).\\\n",
    "            replace('PrivacySuppressed',0).fillna(0)\n",
    "df['COMPLETION RATE']=df['C150_L4_POOLED_SUPP'].astype(float)+df['C150_4_POOLED_SUPP'].astype(float)\n",
    "df.drop(['C150_L4_POOLED_SUPP','C150_4_POOLED_SUPP'],inplace=True,axis=1)\n",
    "df=df[df['COMPLETION RATE']>0].reset_index(drop=True)\n",
    "df['SATCM25'] = df['SATVR25'] + df['SATMT25'] \n",
    "df['SATCM75'] = df['SATVR75'] + df['SATMT75'] \n",
    "df['SATCMMID'] = df['SATVRMID'] + df['SATMTMID'] \n",
    "temp=df.groupby('SATCMMID')['COMPLETION RATE'].describe()\n",
    "df.head(5)"
   ]
  },
  {
   "cell_type": "markdown",
   "metadata": {
    "button": false,
    "new_sheet": false,
    "run_control": {
     "read_only": false
    }
   },
   "source": [
    "# Explain of Variable Name:"
   ]
  },
  {
   "cell_type": "markdown",
   "metadata": {
    "button": false,
    "new_sheet": false,
    "run_control": {
     "read_only": false
    }
   },
   "source": [
    "OPEID: 8-digit OPE ID for institution\n",
    "\n",
    "CONTROL: Control of institution \n",
    "\n",
    "UGDS: Enrollment of undergraduate certificate/degree-seeking students\n",
    "\n",
    "PREDDEG: Predominant undergraduate degree awarded\n",
    "\n",
    "SATVR25: 25th percentile of SAT scores at the institution (critical reading)\n",
    "\n",
    "SATVR75: 75th percentile of SAT scores at the institution (critical reading)\n",
    "\n",
    "SATMT25: 25th percentile of SAT scores at the institution (math)\n",
    "\n",
    "SATMT75: 75th percentile of SAT scores at the institution (math)\n",
    "\n",
    "SATVRMID: Midpoint of SAT scores at the institution (critical reading)\n",
    "\n",
    "SATMTMID: Midpoint of SAT scores at the institution (math)\n",
    "\n",
    "COMPLETION RATE: Completion rate for first-time, full-time students at four-year institutions \n",
    "\n",
    "SATCM25: 25th percentile of SAT scores at the institution\n",
    "\n",
    "SATCM75: 75th percentile of SAT scores at the institution\n",
    "\n",
    "SATCMMID: Midpoint of SAT scores at the institution"
   ]
  },
  {
   "cell_type": "markdown",
   "metadata": {
    "button": false,
    "new_sheet": false,
    "run_control": {
     "read_only": false
    }
   },
   "source": [
    "# Helper Functions for the Project"
   ]
  },
  {
   "cell_type": "code",
   "execution_count": 5,
   "metadata": {
    "button": false,
    "new_sheet": false,
    "run_control": {
     "read_only": false
    }
   },
   "outputs": [],
   "source": [
    "#This function can translate variable name in dataset into readble name\n",
    "def translation_dict(datadict):\n",
    "    df=datadict.copy()\n",
    "    df=df.dropna(subset=['VALUE','LABEL'])\n",
    "    df.loc[:,'VARIABLE NAME']=df.loc[:,'VARIABLE NAME'].fillna(method=\"ffill\")\n",
    "    df=df[['VARIABLE NAME', 'VALUE', 'LABEL']]\n",
    "    df=df.groupby('VARIABLE NAME')[['VALUE','LABEL']].apply(lambda x:x.set_index('VALUE')['LABEL'].to_dict())\n",
    "    return df.to_dict()"
   ]
  },
  {
   "cell_type": "code",
   "execution_count": 6,
   "metadata": {
    "button": false,
    "new_sheet": false,
    "run_control": {
     "read_only": false
    }
   },
   "outputs": [],
   "source": [
    "#This function can calculate the correlation between two variables\n",
    "def correlation(x, y):\n",
    "    std_x = (x - x.mean())/x.std(ddof = 0)\n",
    "    std_y = (y - y.mean())/y.std(ddof = 0)\n",
    "    return (std_x * std_y).mean()"
   ]
  },
  {
   "cell_type": "code",
   "execution_count": 7,
   "metadata": {
    "button": false,
    "new_sheet": false,
    "run_control": {
     "read_only": false
    }
   },
   "outputs": [],
   "source": [
    "#This function can translate SAT score from real average score into scores with bin of 50\n",
    "def new_sat_score(df,name_of_score):\n",
    "    new_sat=[]\n",
    "    for ind, val in df[name_of_score].items():\n",
    "        temp=val//50\n",
    "        temp*=50\n",
    "        new_sat.append(temp)\n",
    "    return pd.Series(new_sat)\n",
    "    "
   ]
  },
  {
   "cell_type": "code",
   "execution_count": 8,
   "metadata": {
    "button": false,
    "new_sheet": false,
    "run_control": {
     "read_only": false
    }
   },
   "outputs": [],
   "source": [
    "#show the highest graduate rate combination of college's control type, size and PREDDEG type using certain sat score\n",
    "def easy_graduate(SAT_SCORE):\n",
    "    df2=df.copy()\n",
    "    df2['SATCMMID']=new_sat_score(df2,'SATCMMID')\n",
    "    df2=df2[df2['SATCMMID']==SAT_SCORE]\n",
    "    temp=df2.groupby(['CONTROL','UGDS','PREDDEG'])['COMPLETION RATE'].mean()\n",
    "    temp=pd.DataFrame(temp)\n",
    "    largest=max(temp.values)\n",
    "    for condition,value in temp.iterrows():\n",
    "        if value.values[0]==largest:\n",
    "            return str('A '+condition[0].lower()+', '+condition[1].lower()+', '+condition[2].lower()+' school.')"
   ]
  },
  {
   "cell_type": "code",
   "execution_count": 9,
   "metadata": {
    "button": false,
    "new_sheet": false,
    "run_control": {
     "read_only": false
    }
   },
   "outputs": [],
   "source": [
    "#show the highest admission rate of college's control type, size and PREDDEG type using certain sat score\n",
    "def easy_apply(SAT_SCORE):\n",
    "    df2=df.copy()\n",
    "    df2=df2[df2['SATCMMID']==SAT_SCORE]\n",
    "    temp=df2.groupby(['CONTROL','UGDS','PREDDEG'])['ADM_RATE'].mean()\n",
    "    temp=pd.DataFrame(temp)\n",
    "    largest=max(temp.values)\n",
    "    for condition,value in temp.iterrows():\n",
    "        if value.values[0]==largest:\n",
    "            return str('A '+condition[0].lower()+', '+condition[1].lower()+', '+condition[2].lower()+' school.')"
   ]
  },
  {
   "cell_type": "code",
   "execution_count": 10,
   "metadata": {
    "button": false,
    "new_sheet": false,
    "run_control": {
     "read_only": false
    }
   },
   "outputs": [],
   "source": [
    "#show the average cost per year using certain sat score\n",
    "def expect_tuition(SAT_SCORE):\n",
    "    df2=df.copy()\n",
    "    df2=df2[df2['SATCMMID']==SAT_SCORE]\n",
    "    return df2['Average_Cost'].mean()"
   ]
  },
  {
   "cell_type": "code",
   "execution_count": 11,
   "metadata": {
    "button": false,
    "new_sheet": false,
    "run_control": {
     "read_only": false
    }
   },
   "outputs": [],
   "source": [
    "#show the average completion rate using certain sat score\n",
    "def expect_completion_rate(SAT_SCORE):\n",
    "    df2=df.copy()\n",
    "    df2=df2[df2['SATCMMID']==SAT_SCORE]\n",
    "    return str(df2['C150_4'].mean()*100)+'%'"
   ]
  },
  {
   "cell_type": "markdown",
   "metadata": {
    "button": false,
    "new_sheet": false,
    "run_control": {
     "read_only": false
    }
   },
   "source": [
    "# Data Science Questions: \n"
   ]
  },
  {
   "cell_type": "markdown",
   "metadata": {
    "button": false,
    "new_sheet": false,
    "run_control": {
     "read_only": false
    }
   },
   "source": [
    "# Question 1:"
   ]
  },
  {
   "cell_type": "markdown",
   "metadata": {
    "button": false,
    "new_sheet": false,
    "run_control": {
     "read_only": false
    }
   },
   "source": [
    "Is there a strong relation existed between average admission sat score of a school and its on-time completion rate?"
   ]
  },
  {
   "cell_type": "markdown",
   "metadata": {
    "button": false,
    "new_sheet": false,
    "run_control": {
     "read_only": false
    }
   },
   "source": [
    "Hypothesis:\n",
    "\n",
    "H0: There is no association between average admission sat score of a school and its on-time completion rate.\n",
    "\n",
    "H1: There is an association between average admission sat score of a school and its on-time completion rate.\n",
    "\n",
    "The sat somehow could demonstrate one participant academic level, so we believe that the on-time completion rate would be determined by the average students' academic level in the school."
   ]
  },
  {
   "cell_type": "code",
   "execution_count": 12,
   "metadata": {
    "button": false,
    "new_sheet": false,
    "run_control": {
     "read_only": false
    }
   },
   "outputs": [],
   "source": [
    "#import dictionary to translate dataset name and number\n",
    "datadict_path = os.path.join('data', 'CollegeScorecardDataDictionary.xlsx')\n",
    "datadict = pd.read_excel(datadict_path, sheet_name='data_dictionary')\n",
    "dic=translation_dict(datadict)"
   ]
  },
  {
   "cell_type": "code",
   "execution_count": 13,
   "metadata": {
    "button": false,
    "new_sheet": false,
    "run_control": {
     "read_only": false
    }
   },
   "outputs": [
    {
     "name": "stdout",
     "output_type": "stream",
     "text": [
      "The correlation between the average sat score of a school and the completion rate is 0.9200815565740299\n"
     ]
    },
    {
     "data": {
      "image/png": "[encoded data removed]",
      "text/plain": [
       "<Figure size 432x288 with 1 Axes>"
      ]
     },
     "metadata": {},
     "output_type": "display_data"
    }
   ],
   "source": [
    "plt.figure(0)\n",
    "Figure_one=temp['mean'].plot(title='SAT Score Versus Completion Rate',xlim=[700,1600])\n",
    "Figure_one.set_xlabel('SAT Score')\n",
    "Figure_one.set_ylabel('Completion Rate')\n",
    "r=correlation(pd.Series(temp.index.values.tolist()),pd.Series(temp['mean'].values))\n",
    "print('The correlation between the average sat score of a school and the completion rate is '+str(r))"
   ]
  },
  {
   "cell_type": "markdown",
   "metadata": {},
   "source": [
    "Since the correlation between the average of student's admission SAT score is positively correlated with the college completion rate, which is as high as 0.92, it is convincing to conclude that higher admission sat score will increase the college's admission rate. "
   ]
  },
  {
   "cell_type": "markdown",
   "metadata": {
    "button": false,
    "new_sheet": false,
    "run_control": {
     "read_only": false
    }
   },
   "source": [
    "# Question 2:"
   ]
  },
  {
   "cell_type": "markdown",
   "metadata": {
    "button": false,
    "new_sheet": false,
    "run_control": {
     "read_only": false
    }
   },
   "source": [
    "What is the relationship between college size and its average completion rate?"
   ]
  },
  {
   "cell_type": "markdown",
   "metadata": {
    "button": false,
    "new_sheet": false,
    "run_control": {
     "read_only": false
    }
   },
   "source": [
    "Hypothesis:\n",
    "\n",
    "H0: There is no association between college size and its average completion rate.\n",
    "\n",
    "H1: There is an association between college size and its average completion rate.\n",
    "\n",
    "The reason for this hypothesis is similar to question one, since we believe the sat scores would represent one's academic capabilities which would affect the college completion."
   ]
  },
  {
   "cell_type": "code",
   "execution_count": 14,
   "metadata": {
    "button": false,
    "new_sheet": false,
    "run_control": {
     "read_only": false
    }
   },
   "outputs": [],
   "source": [
    "#translate using dictionary\n",
    "df['UGDS']=pd.qcut(df['UGDS'],3,labels=['Small Size','Medium Size','Large Size'])\n",
    "df['CONTROL']=df['CONTROL'].map(dic['CONTROL'])\n",
    "df['PREDDEG']=df['PREDDEG'].map(dic['PREDDEG'])"
   ]
  },
  {
   "cell_type": "code",
   "execution_count": 15,
   "metadata": {},
   "outputs": [
    {
     "data": {
      "text/plain": [
       "Text(0, 0.5, 'Completion Rate')"
      ]
     },
     "execution_count": 15,
     "metadata": {},
     "output_type": "execute_result"
    },
    {
     "data": {
      "image/png": "[encoded data removed]",
      "text/plain": [
       "<Figure size 432x288 with 1 Axes>"
      ]
     },
     "metadata": {},
     "output_type": "display_data"
    }
   ],
   "source": [
    "q1=df.groupby('UGDS')['COMPLETION RATE'].describe()\n",
    "q1=q1[q1['count']>5]\n",
    "Figure_four=q1['mean'].plot(kind='bar',title='School Size Versus Completion Rate')\n",
    "Figure_four.set_xlabel('School Size')\n",
    "Figure_four.set_ylabel('Completion Rate')"
   ]
  },
  {
   "cell_type": "markdown",
   "metadata": {},
   "source": [
    "ANOVA for Problem 2:"
   ]
  },
  {
   "cell_type": "code",
   "execution_count": 16,
   "metadata": {},
   "outputs": [
    {
     "name": "stdout",
     "output_type": "stream",
     "text": [
      "34.23275459319728 3.4460992778562727e-15\n"
     ]
    }
   ],
   "source": [
    "fvalue, pvalue = stats.f_oneway(df['COMPLETION RATE'][df['UGDS'] == 'Small Size'], df['COMPLETION RATE'][df['UGDS'] == 'Medium Size'], df['COMPLETION RATE'][df['UGDS'] == 'Large Size'])\n",
    "print(fvalue, pvalue)"
   ]
  },
  {
   "cell_type": "markdown",
   "metadata": {},
   "source": [
    "From the figure above, we can see that larger size college has relatively higher completion rate. Therefore, it is reasonable to conclude that, as the size of the college increases, the completion rate also increases."
   ]
  },
  {
   "cell_type": "markdown",
   "metadata": {
    "button": false,
    "new_sheet": false,
    "run_control": {
     "read_only": false
    }
   },
   "source": [
    "# Question 3:"
   ]
  },
  {
   "cell_type": "markdown",
   "metadata": {
    "button": false,
    "new_sheet": false,
    "run_control": {
     "read_only": false
    }
   },
   "source": [
    "What is the relationship between college type and its average completion rate?"
   ]
  },
  {
   "cell_type": "markdown",
   "metadata": {
    "button": false,
    "new_sheet": false,
    "run_control": {
     "read_only": false
    }
   },
   "source": [
    "Hypothesis:\n",
    "\n",
    "H0: There is no association between college type and its average completion rate.\n",
    "\n",
    "H1: There is an association between college type and its average completion rate.\n",
    "\n",
    "The reason for this hypothesis is similar to question one, since we believe the sat scores would represent one's academic capabilities which would affect the college completion."
   ]
  },
  {
   "cell_type": "code",
   "execution_count": 17,
   "metadata": {
    "button": false,
    "new_sheet": false,
    "run_control": {
     "read_only": false
    }
   },
   "outputs": [
    {
     "data": {
      "text/plain": [
       "Text(0, 0.5, 'Completion Rate')"
      ]
     },
     "execution_count": 17,
     "metadata": {},
     "output_type": "execute_result"
    },
    {
     "data": {
      "image/png": "[encoded data removed]",
      "text/plain": [
       "<Figure size 432x288 with 1 Axes>"
      ]
     },
     "metadata": {},
     "output_type": "display_data"
    }
   ],
   "source": [
    "temp2=df.groupby('CONTROL')['COMPLETION RATE'].describe()\n",
    "temp2=temp2[temp2['count']>5]\n",
    "Figure_two=temp2['mean'].plot(kind='bar',title='CONTROL Type Versus Completion Rate')\n",
    "Figure_two.set_xlabel('CONTROL TYPE')\n",
    "Figure_two.set_ylabel('Completion Rate')"
   ]
  },
  {
   "cell_type": "markdown",
   "metadata": {},
   "source": [
    "Data analysis (ANOVA) for Problem 3:"
   ]
  },
  {
   "cell_type": "code",
   "execution_count": 18,
   "metadata": {},
   "outputs": [
    {
     "name": "stdout",
     "output_type": "stream",
     "text": [
      "32.03024450863479 2.7817628419343064e-14\n"
     ]
    }
   ],
   "source": [
    "fvalue2, pvalue2 = stats.f_oneway(df['COMPLETION RATE'][df['CONTROL'] == 'Private for-profit'], df['COMPLETION RATE'][df['CONTROL'] == 'Private nonprofit'], df['COMPLETION RATE'][df['CONTROL'] == 'Public'])\n",
    "print(fvalue2, pvalue2)"
   ]
  },
  {
   "cell_type": "markdown",
   "metadata": {},
   "source": [
    "From the figure above, we can see that the complete rate of private nonprofit colleges is significantly higher than public and private for-profit schools. Therefore, we can conclude that the private nonprofit colleges have the highest completion rate among the three types of colleges."
   ]
  },
  {
   "cell_type": "markdown",
   "metadata": {
    "button": false,
    "new_sheet": false,
    "run_control": {
     "read_only": false
    }
   },
   "source": [
    "# Question 4:"
   ]
  },
  {
   "cell_type": "markdown",
   "metadata": {
    "button": false,
    "new_sheet": false,
    "run_control": {
     "read_only": false
    }
   },
   "source": [
    "What is the relationship between college's predominant degree type and its average completion rate?"
   ]
  },
  {
   "cell_type": "markdown",
   "metadata": {
    "button": false,
    "new_sheet": false,
    "run_control": {
     "read_only": false
    }
   },
   "source": [
    "Hypothesis:\n",
    "\n",
    "H0: There is no association between college's predominant degree type and its average completion rate.\n",
    "\n",
    "H1: There is an association between college's predominant degree type and its average completion rate.\n",
    "\n",
    "\n",
    "Different degree type, from our perspectiuve, stands for different academic abilities. Different abilities would generate an effect to the degree holder's completion. Then we wish to hypothesize there exists a correlation or not."
   ]
  },
  {
   "cell_type": "code",
   "execution_count": 19,
   "metadata": {
    "button": false,
    "new_sheet": false,
    "run_control": {
     "read_only": false
    }
   },
   "outputs": [
    {
     "data": {
      "text/plain": [
       "Text(0, 0.5, 'Completion Rate')"
      ]
     },
     "execution_count": 19,
     "metadata": {},
     "output_type": "execute_result"
    },
    {
     "data": {
      "image/png": "[encoded data removed]",
      "text/plain": [
       "<Figure size 432x288 with 1 Axes>"
      ]
     },
     "metadata": {},
     "output_type": "display_data"
    }
   ],
   "source": [
    "temp3=df.groupby('PREDDEG')['COMPLETION RATE'].describe()\n",
    "Figure_three=temp3['mean'].plot(kind='bar',title='PREDDEG TYPE Versus Completion Rate')\n",
    "Figure_three.set_xlabel('PREDDEG TYPE')\n",
    "Figure_three.set_ylabel('Completion Rate')"
   ]
  },
  {
   "cell_type": "markdown",
   "metadata": {},
   "source": [
    "ANOVA for Problem 4:"
   ]
  },
  {
   "cell_type": "code",
   "execution_count": 20,
   "metadata": {},
   "outputs": [
    {
     "name": "stdout",
     "output_type": "stream",
     "text": [
      "20.639707398039807 1.5326253030893095e-09\n"
     ]
    }
   ],
   "source": [
    "fvalue3, pvalue3 = stats.f_oneway(df['COMPLETION RATE'][df[\"PREDDEG\"] == \"Predominantly associate's-degree granting\"], \n",
    "                                  df['COMPLETION RATE'][df[\"PREDDEG\"] == \"Predominantly bachelor's-degree granting\"], \n",
    "                                  df['COMPLETION RATE'][df[\"PREDDEG\"] == \"Predominantly certificate-degree granting\"])\n",
    "print(fvalue3, pvalue3)"
   ]
  },
  {
   "cell_type": "markdown",
   "metadata": {},
   "source": [
    "From the figure above, there is obviously a significant difference between the college's predominant degree granting type and its average completion rate. Among the three types of degrees, the colleges that grant certificate degrees as the predominant type are the ones that have the highest completion rate, while the colleges that grant associate degrees as the predominant type are the ones that have the lowest completion rate."
   ]
  },
  {
   "cell_type": "markdown",
   "metadata": {
    "button": false,
    "new_sheet": false,
    "run_control": {
     "read_only": false
    }
   },
   "source": [
    "# Question 5:"
   ]
  },
  {
   "cell_type": "markdown",
   "metadata": {
    "button": false,
    "new_sheet": false,
    "run_control": {
     "read_only": false
    }
   },
   "source": [
    "What type of college should one student choose to study since he/she will highly likely to graduate easily and on-time according to his/her SAT score?"
   ]
  },
  {
   "cell_type": "code",
   "execution_count": 21,
   "metadata": {
    "button": false,
    "new_sheet": false,
    "run_control": {
     "read_only": false
    }
   },
   "outputs": [
    {
     "data": {
      "image/png": "[encoded data removed]",
      "text/plain": [
       "<Figure size 1080x576 with 1 Axes>"
      ]
     },
     "metadata": {},
     "output_type": "display_data"
    }
   ],
   "source": [
    "ds=df[df['SATCMMID']>=700][df['SATCMMID']<=1600].groupby(['SATCMMID','CONTROL'])['COMPLETION RATE'].mean()\n",
    "ds=pd.DataFrame(ds)\n",
    "temp=[]\n",
    "for index,value in ds.iterrows():\n",
    "    temp.append([index[0],index[1],value.values[0]])\n",
    "ds=pd.DataFrame(temp,columns=['SAT SCORE','CONTROL','AVERAGE COMPLETION RATE'])\n",
    "ds['SAT SCORE']= new_sat_score(ds,'SAT SCORE')\n",
    "ax=sns.catplot(x=\"SAT SCORE\", y=\"AVERAGE COMPLETION RATE\", hue=\"CONTROL\", kind=\"bar\", data=ds)\n",
    "ax.set_xticklabels(rotation=40)\n",
    "ax.fig.suptitle('GROUP AVERAGE COMPLETION RATE OF CERTAIN CONTROL TYPE AT CERTAIN SAT SCORE')\n",
    "ax.fig.set_size_inches(15,8)"
   ]
  },
  {
   "cell_type": "markdown",
   "metadata": {},
   "source": [
    "Using the group average Completion Rate of certain control type at certain SAT score, we can know the best choice of school type at certain SAT score. The black vertical line shows the range of completion rate. And we can see that there is no private for-profit college has a average admission SAT score above 1200."
   ]
  },
  {
   "cell_type": "code",
   "execution_count": 22,
   "metadata": {},
   "outputs": [
    {
     "data": {
      "text/plain": [
       "SAT SCORE\n",
       "700.0                 Public\n",
       "750.0      Private nonprofit\n",
       "800.0      Private nonprofit\n",
       "850.0      Private nonprofit\n",
       "900.0      Private nonprofit\n",
       "950.0      Private nonprofit\n",
       "1000.0     Private nonprofit\n",
       "1050.0    Private for-profit\n",
       "1100.0     Private nonprofit\n",
       "1150.0                Public\n",
       "1200.0     Private nonprofit\n",
       "1250.0     Private nonprofit\n",
       "1300.0     Private nonprofit\n",
       "1350.0                Public\n",
       "1400.0     Private nonprofit\n",
       "1450.0     Private nonprofit\n",
       "1500.0     Private nonprofit\n",
       "1550.0     Private nonprofit\n",
       "Name: CONTROL, dtype: object"
      ]
     },
     "execution_count": 22,
     "metadata": {},
     "output_type": "execute_result"
    }
   ],
   "source": [
    "#get the answer of this question\n",
    "result=pd.DataFrame({'mean' : ds.groupby(['SAT SCORE','CONTROL'])['AVERAGE COMPLETION RATE'].mean()}).reset_index()\n",
    "result2=pd.DataFrame({'max mean' : result.groupby(['SAT SCORE'])['mean'].max()}).reset_index()\n",
    "result3=result.set_index('SAT SCORE').join(result2.set_index('SAT SCORE'))\n",
    "result4=result3[result3['mean']==result3['max mean']]\n",
    "result4=result4['CONTROL']\n",
    "result4"
   ]
  },
  {
   "cell_type": "markdown",
   "metadata": {},
   "source": [
    "Above form is the result of best choice of school type using certain SAT Score. "
   ]
  },
  {
   "cell_type": "markdown",
   "metadata": {
    "button": false,
    "new_sheet": false,
    "run_control": {
     "read_only": false
    }
   },
   "source": [
    "# Question 6:"
   ]
  },
  {
   "cell_type": "markdown",
   "metadata": {
    "button": false,
    "new_sheet": false,
    "run_control": {
     "read_only": false
    }
   },
   "source": [
    "What type of Predominant degrees-awarded school should one student choose to study since he/she will highly likely to graduate easily and on-time according to his/her SAT score?\n"
   ]
  },
  {
   "cell_type": "code",
   "execution_count": 23,
   "metadata": {
    "button": false,
    "new_sheet": false,
    "run_control": {
     "read_only": false
    }
   },
   "outputs": [
    {
     "data": {
      "image/png": "[encoded data removed]",
      "text/plain": [
       "<Figure size 1080x576 with 1 Axes>"
      ]
     },
     "metadata": {},
     "output_type": "display_data"
    }
   ],
   "source": [
    "ds=df[df['SATCMMID']>=700][df['SATCMMID']<=1600].groupby(['SATCMMID','PREDDEG'])['COMPLETION RATE'].mean()\n",
    "ds=pd.DataFrame(ds)\n",
    "temp=[]\n",
    "for index,value in ds.iterrows():\n",
    "    temp.append([index[0],index[1],value.values[0]])\n",
    "ds=pd.DataFrame(temp,columns=['SAT SCORE','PREDDEG','AVERAGE COMPLETION RATE'])\n",
    "ds['SAT SCORE']= new_sat_score(ds,'SAT SCORE')\n",
    "ax=sns.catplot(x=\"SAT SCORE\", y=\"AVERAGE COMPLETION RATE\", hue=\"PREDDEG\", kind=\"bar\", data=ds)\n",
    "ax.set_xticklabels(rotation=40)\n",
    "ax.fig.suptitle('GROUP AVERAGE COMPLETION RATE OF CERTAIN PREDDEG TYPE AT CERTAIN SAT SCORE')\n",
    "ax.fig.set_size_inches(15,8)"
   ]
  },
  {
   "cell_type": "markdown",
   "metadata": {},
   "source": [
    "Using the group average Completion Rate of certain preddeg type at certain SAT score, we can know the best choice of Predominant undergraduate degree awarded school type at certain SAT score. The black vertical line shows the range of completion rate. "
   ]
  },
  {
   "cell_type": "code",
   "execution_count": 24,
   "metadata": {},
   "outputs": [
    {
     "data": {
      "text/plain": [
       "SAT SCORE\n",
       "700.0     Predominantly associate's-degree granting\n",
       "750.0      Predominantly bachelor's-degree granting\n",
       "800.0     Predominantly certificate-degree granting\n",
       "850.0      Predominantly bachelor's-degree granting\n",
       "900.0     Predominantly certificate-degree granting\n",
       "950.0     Predominantly certificate-degree granting\n",
       "1000.0    Predominantly certificate-degree granting\n",
       "1050.0     Predominantly bachelor's-degree granting\n",
       "1100.0    Predominantly associate's-degree granting\n",
       "1150.0     Predominantly bachelor's-degree granting\n",
       "1200.0     Predominantly bachelor's-degree granting\n",
       "1250.0     Predominantly bachelor's-degree granting\n",
       "1300.0    Predominantly associate's-degree granting\n",
       "1350.0     Predominantly bachelor's-degree granting\n",
       "1400.0     Predominantly bachelor's-degree granting\n",
       "1450.0     Predominantly bachelor's-degree granting\n",
       "1500.0     Predominantly bachelor's-degree granting\n",
       "1550.0     Predominantly bachelor's-degree granting\n",
       "Name: PREDDEG, dtype: object"
      ]
     },
     "execution_count": 24,
     "metadata": {},
     "output_type": "execute_result"
    }
   ],
   "source": [
    "#get the answer of this question\n",
    "result=pd.DataFrame({'mean' : ds.groupby(['SAT SCORE','PREDDEG'])['AVERAGE COMPLETION RATE'].mean()}).reset_index()\n",
    "result2=pd.DataFrame({'max mean' : result.groupby(['SAT SCORE'])['mean'].max()}).reset_index()\n",
    "result3=result.set_index('SAT SCORE').join(result2.set_index('SAT SCORE'))\n",
    "result4=result3[result3['mean']==result3['max mean']]\n",
    "result4=result4['PREDDEG']\n",
    "result4"
   ]
  },
  {
   "cell_type": "markdown",
   "metadata": {},
   "source": [
    "Above form is the result of best choice of Predominant undergraduate degree awarded school type using certain SAT Score."
   ]
  },
  {
   "cell_type": "markdown",
   "metadata": {
    "button": false,
    "new_sheet": false,
    "run_control": {
     "read_only": false
    }
   },
   "source": [
    "# Question 7:"
   ]
  },
  {
   "cell_type": "markdown",
   "metadata": {
    "button": false,
    "new_sheet": false,
    "run_control": {
     "read_only": false
    }
   },
   "source": [
    "What size of school should one student choose to study since he/she will highly likely to graduate easily and on-time according to his/her SAT score?\n"
   ]
  },
  {
   "cell_type": "code",
   "execution_count": 25,
   "metadata": {
    "button": false,
    "new_sheet": false,
    "run_control": {
     "read_only": false
    }
   },
   "outputs": [
    {
     "data": {
      "image/png": "[encoded data removed]",
      "text/plain": [
       "<Figure size 1080x576 with 1 Axes>"
      ]
     },
     "metadata": {},
     "output_type": "display_data"
    }
   ],
   "source": [
    "ds=df[df['SATCMMID']>=700][df['SATCMMID']<=1600].groupby(['SATCMMID','UGDS'])['COMPLETION RATE'].mean()\n",
    "ds=pd.DataFrame(ds)\n",
    "temp=[]\n",
    "for index,value in ds.iterrows():\n",
    "    temp.append([index[0],index[1],value.values[0]])\n",
    "ds=pd.DataFrame(temp,columns=['SAT SCORE','UGDS','AVERAGE COMPLETION RATE'])\n",
    "ds['SAT SCORE']= new_sat_score(ds,'SAT SCORE')\n",
    "ax=sns.catplot(x=\"SAT SCORE\", y=\"AVERAGE COMPLETION RATE\", hue=\"UGDS\", kind=\"bar\", data=ds)\n",
    "ax.set_xticklabels(rotation=40)\n",
    "ax.fig.suptitle('GROUP AVERAGE COMPLETION RATE OF CERTAIN SCHOOL SIZE TYPE AT CERTAIN SAT SCORE')\n",
    "ax.fig.set_size_inches(15,8)"
   ]
  },
  {
   "cell_type": "markdown",
   "metadata": {},
   "source": [
    "Using the group average Completion Rate of certain control type at certain SAT score, we can know the best choice of school size at certain SAT score. The black vertical line shows the range of completion rate. "
   ]
  },
  {
   "cell_type": "code",
   "execution_count": 26,
   "metadata": {},
   "outputs": [
    {
     "data": {
      "text/plain": [
       "SAT SCORE\n",
       "700.0      Large Size\n",
       "750.0      Small Size\n",
       "800.0      Small Size\n",
       "850.0      Large Size\n",
       "900.0      Small Size\n",
       "950.0      Small Size\n",
       "1000.0     Small Size\n",
       "1050.0    Medium Size\n",
       "1100.0    Medium Size\n",
       "1150.0    Medium Size\n",
       "1200.0    Medium Size\n",
       "1250.0    Medium Size\n",
       "1300.0    Medium Size\n",
       "1350.0    Medium Size\n",
       "1400.0     Small Size\n",
       "1450.0     Large Size\n",
       "1500.0     Large Size\n",
       "1550.0     Small Size\n",
       "Name: UGDS, dtype: object"
      ]
     },
     "execution_count": 26,
     "metadata": {},
     "output_type": "execute_result"
    }
   ],
   "source": [
    "#get the answer of this question\n",
    "result=pd.DataFrame({'mean' : ds.groupby(['SAT SCORE','UGDS'])['AVERAGE COMPLETION RATE'].mean()}).reset_index()\n",
    "result2=pd.DataFrame({'max mean' : result.groupby(['SAT SCORE'])['mean'].max()}).reset_index()\n",
    "result3=result.set_index('SAT SCORE').join(result2.set_index('SAT SCORE'))\n",
    "result4=result3[result3['mean']==result3['max mean']]\n",
    "result4=result4['UGDS']\n",
    "result4"
   ]
  },
  {
   "cell_type": "markdown",
   "metadata": {},
   "source": [
    "Above form is the result of best choice of school size using certain SAT Score."
   ]
  },
  {
   "cell_type": "markdown",
   "metadata": {
    "button": false,
    "new_sheet": false,
    "run_control": {
     "read_only": false
    }
   },
   "source": [
    "# Question 8:"
   ]
  },
  {
   "cell_type": "markdown",
   "metadata": {
    "button": false,
    "new_sheet": false,
    "run_control": {
     "read_only": false
    }
   },
   "source": [
    "What kind of school should one student choose to study since he/she will highly likely to graduate easily and on-time according to his/her SAT score?\n"
   ]
  },
  {
   "cell_type": "code",
   "execution_count": 27,
   "metadata": {
    "button": false,
    "new_sheet": false,
    "run_control": {
     "read_only": false
    }
   },
   "outputs": [
    {
     "data": {
      "text/html": [
       "<div>\n",
       "<style scoped>\n",
       "    .dataframe tbody tr th:only-of-type {\n",
       "        vertical-align: middle;\n",
       "    }\n",
       "\n",
       "    .dataframe tbody tr th {\n",
       "        vertical-align: top;\n",
       "    }\n",
       "\n",
       "    .dataframe thead th {\n",
       "        text-align: right;\n",
       "    }\n",
       "</style>\n",
       "<table border=\"1\" class=\"dataframe\">\n",
       "  <thead>\n",
       "    <tr style=\"text-align: right;\">\n",
       "      <th></th>\n",
       "      <th>SAT Score</th>\n",
       "      <th>BEST CHOICE</th>\n",
       "    </tr>\n",
       "  </thead>\n",
       "  <tbody>\n",
       "    <tr>\n",
       "      <th>0</th>\n",
       "      <td>700.0</td>\n",
       "      <td>A private nonprofit, small size, predominantly associate's-degree granting school.</td>\n",
       "    </tr>\n",
       "    <tr>\n",
       "      <th>1</th>\n",
       "      <td>750.0</td>\n",
       "      <td>A private nonprofit, small size, predominantly bachelor's-degree granting school.</td>\n",
       "    </tr>\n",
       "    <tr>\n",
       "      <th>2</th>\n",
       "      <td>800.0</td>\n",
       "      <td>A private nonprofit, small size, predominantly certificate-degree granting school.</td>\n",
       "    </tr>\n",
       "    <tr>\n",
       "      <th>3</th>\n",
       "      <td>850.0</td>\n",
       "      <td>A private nonprofit, large size, predominantly bachelor's-degree granting school.</td>\n",
       "    </tr>\n",
       "    <tr>\n",
       "      <th>4</th>\n",
       "      <td>900.0</td>\n",
       "      <td>A private for-profit, small size, predominantly bachelor's-degree granting school.</td>\n",
       "    </tr>\n",
       "    <tr>\n",
       "      <th>5</th>\n",
       "      <td>950.0</td>\n",
       "      <td>A private nonprofit, small size, predominantly certificate-degree granting school.</td>\n",
       "    </tr>\n",
       "    <tr>\n",
       "      <th>6</th>\n",
       "      <td>1000.0</td>\n",
       "      <td>A private nonprofit, small size, predominantly certificate-degree granting school.</td>\n",
       "    </tr>\n",
       "    <tr>\n",
       "      <th>7</th>\n",
       "      <td>1050.0</td>\n",
       "      <td>A private for-profit, medium size, predominantly bachelor's-degree granting school.</td>\n",
       "    </tr>\n",
       "    <tr>\n",
       "      <th>8</th>\n",
       "      <td>1100.0</td>\n",
       "      <td>A private nonprofit, large size, predominantly bachelor's-degree granting school.</td>\n",
       "    </tr>\n",
       "    <tr>\n",
       "      <th>9</th>\n",
       "      <td>1150.0</td>\n",
       "      <td>A private nonprofit, large size, predominantly bachelor's-degree granting school.</td>\n",
       "    </tr>\n",
       "    <tr>\n",
       "      <th>10</th>\n",
       "      <td>1200.0</td>\n",
       "      <td>A private nonprofit, medium size, predominantly bachelor's-degree granting school.</td>\n",
       "    </tr>\n",
       "    <tr>\n",
       "      <th>11</th>\n",
       "      <td>1250.0</td>\n",
       "      <td>A private nonprofit, medium size, predominantly bachelor's-degree granting school.</td>\n",
       "    </tr>\n",
       "    <tr>\n",
       "      <th>12</th>\n",
       "      <td>1300.0</td>\n",
       "      <td>A private nonprofit, small size, predominantly associate's-degree granting school.</td>\n",
       "    </tr>\n",
       "    <tr>\n",
       "      <th>13</th>\n",
       "      <td>1350.0</td>\n",
       "      <td>A public, large size, predominantly bachelor's-degree granting school.</td>\n",
       "    </tr>\n",
       "    <tr>\n",
       "      <th>14</th>\n",
       "      <td>1400.0</td>\n",
       "      <td>A private nonprofit, small size, predominantly bachelor's-degree granting school.</td>\n",
       "    </tr>\n",
       "    <tr>\n",
       "      <th>15</th>\n",
       "      <td>1450.0</td>\n",
       "      <td>A private nonprofit, large size, predominantly bachelor's-degree granting school.</td>\n",
       "    </tr>\n",
       "    <tr>\n",
       "      <th>16</th>\n",
       "      <td>1500.0</td>\n",
       "      <td>A private nonprofit, large size, predominantly bachelor's-degree granting school.</td>\n",
       "    </tr>\n",
       "    <tr>\n",
       "      <th>17</th>\n",
       "      <td>1550.0</td>\n",
       "      <td>A private nonprofit, small size, predominantly bachelor's-degree granting school.</td>\n",
       "    </tr>\n",
       "  </tbody>\n",
       "</table>\n",
       "</div>"
      ],
      "text/plain": [
       "    SAT Score  \\\n",
       "0   700.0       \n",
       "1   750.0       \n",
       "2   800.0       \n",
       "3   850.0       \n",
       "4   900.0       \n",
       "5   950.0       \n",
       "6   1000.0      \n",
       "7   1050.0      \n",
       "8   1100.0      \n",
       "9   1150.0      \n",
       "10  1200.0      \n",
       "11  1250.0      \n",
       "12  1300.0      \n",
       "13  1350.0      \n",
       "14  1400.0      \n",
       "15  1450.0      \n",
       "16  1500.0      \n",
       "17  1550.0      \n",
       "\n",
       "                                                                            BEST CHOICE  \n",
       "0   A private nonprofit, small size, predominantly associate's-degree granting school.   \n",
       "1   A private nonprofit, small size, predominantly bachelor's-degree granting school.    \n",
       "2   A private nonprofit, small size, predominantly certificate-degree granting school.   \n",
       "3   A private nonprofit, large size, predominantly bachelor's-degree granting school.    \n",
       "4   A private for-profit, small size, predominantly bachelor's-degree granting school.   \n",
       "5   A private nonprofit, small size, predominantly certificate-degree granting school.   \n",
       "6   A private nonprofit, small size, predominantly certificate-degree granting school.   \n",
       "7   A private for-profit, medium size, predominantly bachelor's-degree granting school.  \n",
       "8   A private nonprofit, large size, predominantly bachelor's-degree granting school.    \n",
       "9   A private nonprofit, large size, predominantly bachelor's-degree granting school.    \n",
       "10  A private nonprofit, medium size, predominantly bachelor's-degree granting school.   \n",
       "11  A private nonprofit, medium size, predominantly bachelor's-degree granting school.   \n",
       "12  A private nonprofit, small size, predominantly associate's-degree granting school.   \n",
       "13  A public, large size, predominantly bachelor's-degree granting school.               \n",
       "14  A private nonprofit, small size, predominantly bachelor's-degree granting school.    \n",
       "15  A private nonprofit, large size, predominantly bachelor's-degree granting school.    \n",
       "16  A private nonprofit, large size, predominantly bachelor's-degree granting school.    \n",
       "17  A private nonprofit, small size, predominantly bachelor's-degree granting school.    "
      ]
     },
     "execution_count": 27,
     "metadata": {},
     "output_type": "execute_result"
    }
   ],
   "source": [
    "temp_df=df.copy()\n",
    "temp_df['SATCMMID']=new_sat_score(temp_df,'SATCMMID')\n",
    "choice=pd.DataFrame()\n",
    "choice['SAT Score']=np.sort(temp_df['SATCMMID'].unique())\n",
    "choice['BEST CHOICE']=choice['SAT Score'].apply(easy_graduate)\n",
    "pd.set_option('display.max_colwidth', -1)\n",
    "choice"
   ]
  },
  {
   "cell_type": "markdown",
   "metadata": {},
   "source": [
    "Using the group average Completion Rate of same School Size, Control type and Preddege type school, the form above gives out the best choice using certain SAT Score."
   ]
  },
  {
   "cell_type": "markdown",
   "metadata": {
    "button": false,
    "new_sheet": false,
    "run_control": {
     "read_only": false
    }
   },
   "source": [
    "# Question 9:"
   ]
  },
  {
   "cell_type": "markdown",
   "metadata": {
    "button": false,
    "new_sheet": false,
    "run_control": {
     "read_only": false
    }
   },
   "source": [
    "What kind of school should one student apply since he/she will highly likely to get a offer easily according to his/her SAT score?"
   ]
  },
  {
   "cell_type": "markdown",
   "metadata": {
    "button": false,
    "new_sheet": false,
    "run_control": {
     "read_only": false
    }
   },
   "source": [
    "# Import full dataset"
   ]
  },
  {
   "cell_type": "code",
   "execution_count": 28,
   "metadata": {
    "button": false,
    "new_sheet": false,
    "run_control": {
     "read_only": false
    }
   },
   "outputs": [
    {
     "name": "stderr",
     "output_type": "stream",
     "text": [
      "C:\\Users\\Hank\\Anaconda3\\lib\\site-packages\\IPython\\core\\interactiveshell.py:3049: DtypeWarning: Columns (6,1379,1380,1381,1382,1383,1384,1385,1386,1387,1388,1389,1390,1391,1392,1393,1394,1395,1396,1397,1398,1399,1400,1401,1402,1403,1404,1405,1406,1407,1408,1431,1432,1503,1504,1517,1518,1519,1529,1530,1532,1534,1535,1537,1538,1539,1540,1542,1575,1576,1577,1578,1579,1580,1581,1582,1583,1584,1585,1586,1587,1588,1589,1590,1591,1592,1593,1594,1595,1596,1597,1598,1599,1600,1601,1602,1606,1610,1611,1614,1615,1616,1708,1729,1909,1910,1911,1912,1913) have mixed types. Specify dtype option on import or set low_memory=False.\n",
      "  interactivity=interactivity, compiler=compiler, result=result)\n"
     ]
    },
    {
     "data": {
      "text/html": [
       "<div>\n",
       "<style scoped>\n",
       "    .dataframe tbody tr th:only-of-type {\n",
       "        vertical-align: middle;\n",
       "    }\n",
       "\n",
       "    .dataframe tbody tr th {\n",
       "        vertical-align: top;\n",
       "    }\n",
       "\n",
       "    .dataframe thead th {\n",
       "        text-align: right;\n",
       "    }\n",
       "</style>\n",
       "<table border=\"1\" class=\"dataframe\">\n",
       "  <thead>\n",
       "    <tr style=\"text-align: right;\">\n",
       "      <th></th>\n",
       "      <th>UNITID</th>\n",
       "      <th>OPEID</th>\n",
       "      <th>OPEID6</th>\n",
       "      <th>INSTNM</th>\n",
       "      <th>CITY</th>\n",
       "      <th>STABBR</th>\n",
       "      <th>ZIP</th>\n",
       "      <th>ACCREDAGENCY</th>\n",
       "      <th>INSTURL</th>\n",
       "      <th>NPCURL</th>\n",
       "      <th>...</th>\n",
       "      <th>OMAWDP8_NOTFIRSTTIME_POOLED_SUPP</th>\n",
       "      <th>OMENRUP_NOTFIRSTTIME_POOLED_SUPP</th>\n",
       "      <th>OMENRYP_FULLTIME_POOLED_SUPP</th>\n",
       "      <th>OMENRAP_FULLTIME_POOLED_SUPP</th>\n",
       "      <th>OMAWDP8_FULLTIME_POOLED_SUPP</th>\n",
       "      <th>OMENRUP_FULLTIME_POOLED_SUPP</th>\n",
       "      <th>OMENRYP_PARTTIME_POOLED_SUPP</th>\n",
       "      <th>OMENRAP_PARTTIME_POOLED_SUPP</th>\n",
       "      <th>OMAWDP8_PARTTIME_POOLED_SUPP</th>\n",
       "      <th>OMENRUP_PARTTIME_POOLED_SUPP</th>\n",
       "    </tr>\n",
       "  </thead>\n",
       "  <tbody>\n",
       "    <tr>\n",
       "      <th>0</th>\n",
       "      <td>100654</td>\n",
       "      <td>100200</td>\n",
       "      <td>1002</td>\n",
       "      <td>Alabama A &amp; M University</td>\n",
       "      <td>Normal</td>\n",
       "      <td>AL</td>\n",
       "      <td>35762</td>\n",
       "      <td>NaN</td>\n",
       "      <td>NaN</td>\n",
       "      <td>NaN</td>\n",
       "      <td>...</td>\n",
       "      <td>NaN</td>\n",
       "      <td>NaN</td>\n",
       "      <td>NaN</td>\n",
       "      <td>NaN</td>\n",
       "      <td>NaN</td>\n",
       "      <td>NaN</td>\n",
       "      <td>NaN</td>\n",
       "      <td>NaN</td>\n",
       "      <td>NaN</td>\n",
       "      <td>NaN</td>\n",
       "    </tr>\n",
       "    <tr>\n",
       "      <th>1</th>\n",
       "      <td>100663</td>\n",
       "      <td>105200</td>\n",
       "      <td>1052</td>\n",
       "      <td>University of Alabama at Birmingham</td>\n",
       "      <td>Birmingham</td>\n",
       "      <td>AL</td>\n",
       "      <td>35294-0110</td>\n",
       "      <td>NaN</td>\n",
       "      <td>NaN</td>\n",
       "      <td>NaN</td>\n",
       "      <td>...</td>\n",
       "      <td>NaN</td>\n",
       "      <td>NaN</td>\n",
       "      <td>NaN</td>\n",
       "      <td>NaN</td>\n",
       "      <td>NaN</td>\n",
       "      <td>NaN</td>\n",
       "      <td>NaN</td>\n",
       "      <td>NaN</td>\n",
       "      <td>NaN</td>\n",
       "      <td>NaN</td>\n",
       "    </tr>\n",
       "    <tr>\n",
       "      <th>2</th>\n",
       "      <td>100690</td>\n",
       "      <td>2503400</td>\n",
       "      <td>25034</td>\n",
       "      <td>Amridge University</td>\n",
       "      <td>Montgomery</td>\n",
       "      <td>AL</td>\n",
       "      <td>36117-3553</td>\n",
       "      <td>NaN</td>\n",
       "      <td>NaN</td>\n",
       "      <td>NaN</td>\n",
       "      <td>...</td>\n",
       "      <td>NaN</td>\n",
       "      <td>NaN</td>\n",
       "      <td>NaN</td>\n",
       "      <td>NaN</td>\n",
       "      <td>NaN</td>\n",
       "      <td>NaN</td>\n",
       "      <td>NaN</td>\n",
       "      <td>NaN</td>\n",
       "      <td>NaN</td>\n",
       "      <td>NaN</td>\n",
       "    </tr>\n",
       "    <tr>\n",
       "      <th>3</th>\n",
       "      <td>100706</td>\n",
       "      <td>105500</td>\n",
       "      <td>1055</td>\n",
       "      <td>University of Alabama in Huntsville</td>\n",
       "      <td>Huntsville</td>\n",
       "      <td>AL</td>\n",
       "      <td>35899</td>\n",
       "      <td>NaN</td>\n",
       "      <td>NaN</td>\n",
       "      <td>NaN</td>\n",
       "      <td>...</td>\n",
       "      <td>NaN</td>\n",
       "      <td>NaN</td>\n",
       "      <td>NaN</td>\n",
       "      <td>NaN</td>\n",
       "      <td>NaN</td>\n",
       "      <td>NaN</td>\n",
       "      <td>NaN</td>\n",
       "      <td>NaN</td>\n",
       "      <td>NaN</td>\n",
       "      <td>NaN</td>\n",
       "    </tr>\n",
       "    <tr>\n",
       "      <th>4</th>\n",
       "      <td>100724</td>\n",
       "      <td>100500</td>\n",
       "      <td>1005</td>\n",
       "      <td>Alabama State University</td>\n",
       "      <td>Montgomery</td>\n",
       "      <td>AL</td>\n",
       "      <td>36104-0271</td>\n",
       "      <td>NaN</td>\n",
       "      <td>NaN</td>\n",
       "      <td>NaN</td>\n",
       "      <td>...</td>\n",
       "      <td>NaN</td>\n",
       "      <td>NaN</td>\n",
       "      <td>NaN</td>\n",
       "      <td>NaN</td>\n",
       "      <td>NaN</td>\n",
       "      <td>NaN</td>\n",
       "      <td>NaN</td>\n",
       "      <td>NaN</td>\n",
       "      <td>NaN</td>\n",
       "      <td>NaN</td>\n",
       "    </tr>\n",
       "  </tbody>\n",
       "</table>\n",
       "<p>5 rows × 1977 columns</p>\n",
       "</div>"
      ],
      "text/plain": [
       "   UNITID    OPEID  OPEID6                               INSTNM        CITY  \\\n",
       "0  100654  100200   1002    Alabama A & M University             Normal       \n",
       "1  100663  105200   1052    University of Alabama at Birmingham  Birmingham   \n",
       "2  100690  2503400  25034   Amridge University                   Montgomery   \n",
       "3  100706  105500   1055    University of Alabama in Huntsville  Huntsville   \n",
       "4  100724  100500   1005    Alabama State University             Montgomery   \n",
       "\n",
       "  STABBR         ZIP  ACCREDAGENCY  INSTURL  NPCURL  ...  \\\n",
       "0  AL     35762      NaN           NaN      NaN      ...   \n",
       "1  AL     35294-0110 NaN           NaN      NaN      ...   \n",
       "2  AL     36117-3553 NaN           NaN      NaN      ...   \n",
       "3  AL     35899      NaN           NaN      NaN      ...   \n",
       "4  AL     36104-0271 NaN           NaN      NaN      ...   \n",
       "\n",
       "   OMAWDP8_NOTFIRSTTIME_POOLED_SUPP  OMENRUP_NOTFIRSTTIME_POOLED_SUPP  \\\n",
       "0 NaN                               NaN                                 \n",
       "1 NaN                               NaN                                 \n",
       "2 NaN                               NaN                                 \n",
       "3 NaN                               NaN                                 \n",
       "4 NaN                               NaN                                 \n",
       "\n",
       "   OMENRYP_FULLTIME_POOLED_SUPP  OMENRAP_FULLTIME_POOLED_SUPP  \\\n",
       "0 NaN                           NaN                             \n",
       "1 NaN                           NaN                             \n",
       "2 NaN                           NaN                             \n",
       "3 NaN                           NaN                             \n",
       "4 NaN                           NaN                             \n",
       "\n",
       "   OMAWDP8_FULLTIME_POOLED_SUPP  OMENRUP_FULLTIME_POOLED_SUPP  \\\n",
       "0 NaN                           NaN                             \n",
       "1 NaN                           NaN                             \n",
       "2 NaN                           NaN                             \n",
       "3 NaN                           NaN                             \n",
       "4 NaN                           NaN                             \n",
       "\n",
       "   OMENRYP_PARTTIME_POOLED_SUPP  OMENRAP_PARTTIME_POOLED_SUPP  \\\n",
       "0 NaN                           NaN                             \n",
       "1 NaN                           NaN                             \n",
       "2 NaN                           NaN                             \n",
       "3 NaN                           NaN                             \n",
       "4 NaN                           NaN                             \n",
       "\n",
       "   OMAWDP8_PARTTIME_POOLED_SUPP  OMENRUP_PARTTIME_POOLED_SUPP  \n",
       "0 NaN                           NaN                            \n",
       "1 NaN                           NaN                            \n",
       "2 NaN                           NaN                            \n",
       "3 NaN                           NaN                            \n",
       "4 NaN                           NaN                            \n",
       "\n",
       "[5 rows x 1977 columns]"
      ]
     },
     "execution_count": 28,
     "metadata": {},
     "output_type": "execute_result"
    }
   ],
   "source": [
    "#Since we are going to use the admission rate of each college which only contained by the full dataset, we have to import\n",
    "#the dataset again\n",
    "college_path_all = os.path.join('data', 'MERGED2016_17_PP real.csv')\n",
    "college_all = pd.read_csv(college_path_all)\n",
    "college_all.head(5)"
   ]
  },
  {
   "cell_type": "code",
   "execution_count": 29,
   "metadata": {
    "button": false,
    "new_sheet": false,
    "run_control": {
     "read_only": false
    }
   },
   "outputs": [
    {
     "data": {
      "text/html": [
       "<div>\n",
       "<style scoped>\n",
       "    .dataframe tbody tr th:only-of-type {\n",
       "        vertical-align: middle;\n",
       "    }\n",
       "\n",
       "    .dataframe tbody tr th {\n",
       "        vertical-align: top;\n",
       "    }\n",
       "\n",
       "    .dataframe thead th {\n",
       "        text-align: right;\n",
       "    }\n",
       "</style>\n",
       "<table border=\"1\" class=\"dataframe\">\n",
       "  <thead>\n",
       "    <tr style=\"text-align: right;\">\n",
       "      <th></th>\n",
       "      <th>OPEID</th>\n",
       "      <th>CONTROL</th>\n",
       "      <th>UGDS</th>\n",
       "      <th>PREDDEG</th>\n",
       "      <th>SATVR25</th>\n",
       "      <th>SATVR75</th>\n",
       "      <th>SATMT25</th>\n",
       "      <th>SATMT75</th>\n",
       "      <th>SATVRMID</th>\n",
       "      <th>SATMTMID</th>\n",
       "      <th>ADM_RATE</th>\n",
       "      <th>SATCM25</th>\n",
       "      <th>SATCM75</th>\n",
       "      <th>SATCMMID</th>\n",
       "    </tr>\n",
       "  </thead>\n",
       "  <tbody>\n",
       "    <tr>\n",
       "      <th>0</th>\n",
       "      <td>100200</td>\n",
       "      <td>Public</td>\n",
       "      <td>Large Size</td>\n",
       "      <td>Predominantly bachelor's-degree granting</td>\n",
       "      <td>380.0</td>\n",
       "      <td>470.0</td>\n",
       "      <td>370.0</td>\n",
       "      <td>470.0</td>\n",
       "      <td>425.0</td>\n",
       "      <td>420.0</td>\n",
       "      <td>0.8738</td>\n",
       "      <td>750.0</td>\n",
       "      <td>940.0</td>\n",
       "      <td>800.0</td>\n",
       "    </tr>\n",
       "    <tr>\n",
       "      <th>1</th>\n",
       "      <td>105200</td>\n",
       "      <td>Public</td>\n",
       "      <td>Large Size</td>\n",
       "      <td>Predominantly bachelor's-degree granting</td>\n",
       "      <td>480.0</td>\n",
       "      <td>640.0</td>\n",
       "      <td>490.0</td>\n",
       "      <td>660.0</td>\n",
       "      <td>560.0</td>\n",
       "      <td>575.0</td>\n",
       "      <td>0.5814</td>\n",
       "      <td>970.0</td>\n",
       "      <td>1300.0</td>\n",
       "      <td>1100.0</td>\n",
       "    </tr>\n",
       "    <tr>\n",
       "      <th>3</th>\n",
       "      <td>105500</td>\n",
       "      <td>Public</td>\n",
       "      <td>Large Size</td>\n",
       "      <td>Predominantly bachelor's-degree granting</td>\n",
       "      <td>520.0</td>\n",
       "      <td>660.0</td>\n",
       "      <td>540.0</td>\n",
       "      <td>680.0</td>\n",
       "      <td>590.0</td>\n",
       "      <td>610.0</td>\n",
       "      <td>0.7628</td>\n",
       "      <td>1060.0</td>\n",
       "      <td>1340.0</td>\n",
       "      <td>800.0</td>\n",
       "    </tr>\n",
       "    <tr>\n",
       "      <th>4</th>\n",
       "      <td>100500</td>\n",
       "      <td>Public</td>\n",
       "      <td>Large Size</td>\n",
       "      <td>Predominantly bachelor's-degree granting</td>\n",
       "      <td>370.0</td>\n",
       "      <td>460.0</td>\n",
       "      <td>360.0</td>\n",
       "      <td>460.0</td>\n",
       "      <td>415.0</td>\n",
       "      <td>410.0</td>\n",
       "      <td>0.4590</td>\n",
       "      <td>730.0</td>\n",
       "      <td>920.0</td>\n",
       "      <td>1100.0</td>\n",
       "    </tr>\n",
       "    <tr>\n",
       "      <th>5</th>\n",
       "      <td>105100</td>\n",
       "      <td>Public</td>\n",
       "      <td>Large Size</td>\n",
       "      <td>Predominantly bachelor's-degree granting</td>\n",
       "      <td>490.0</td>\n",
       "      <td>610.0</td>\n",
       "      <td>490.0</td>\n",
       "      <td>620.0</td>\n",
       "      <td>550.0</td>\n",
       "      <td>555.0</td>\n",
       "      <td>0.5259</td>\n",
       "      <td>980.0</td>\n",
       "      <td>1230.0</td>\n",
       "      <td>900.0</td>\n",
       "    </tr>\n",
       "  </tbody>\n",
       "</table>\n",
       "</div>"
      ],
      "text/plain": [
       "    OPEID CONTROL        UGDS                                   PREDDEG  \\\n",
       "0  100200  Public  Large Size  Predominantly bachelor's-degree granting   \n",
       "1  105200  Public  Large Size  Predominantly bachelor's-degree granting   \n",
       "3  105500  Public  Large Size  Predominantly bachelor's-degree granting   \n",
       "4  100500  Public  Large Size  Predominantly bachelor's-degree granting   \n",
       "5  105100  Public  Large Size  Predominantly bachelor's-degree granting   \n",
       "\n",
       "   SATVR25  SATVR75  SATMT25  SATMT75  SATVRMID  SATMTMID  ADM_RATE  SATCM25  \\\n",
       "0  380.0    470.0    370.0    470.0    425.0     420.0     0.8738    750.0     \n",
       "1  480.0    640.0    490.0    660.0    560.0     575.0     0.5814    970.0     \n",
       "3  520.0    660.0    540.0    680.0    590.0     610.0     0.7628    1060.0    \n",
       "4  370.0    460.0    360.0    460.0    415.0     410.0     0.4590    730.0     \n",
       "5  490.0    610.0    490.0    620.0    550.0     555.0     0.5259    980.0     \n",
       "\n",
       "   SATCM75  SATCMMID  \n",
       "0  940.0    800.0     \n",
       "1  1300.0   1100.0    \n",
       "3  1340.0   800.0     \n",
       "4  920.0    1100.0    \n",
       "5  1230.0   900.0     "
      ]
     },
     "execution_count": 29,
     "metadata": {},
     "output_type": "execute_result"
    }
   ],
   "source": [
    "#Same data cleaning and prepare processes in the first part\n",
    "df=college_all[['OPEID','CONTROL','UGDS','PREDDEG','SATVR25', 'SATVR75',\\\n",
    "           'SATMT25','SATMT75','SATVRMID','SATMTMID',\\\n",
    "            \"ADM_RATE\"]].dropna(subset=['SATVR25', 'SATVR75',\\\n",
    "           'SATMT25','SATMT75','SATVRMID','SATMTMID']).\\\n",
    "            replace('PrivacySuppressed',0).fillna(0)\n",
    "df['SATCM25'] = df['SATVR25'] + df['SATMT25'] \n",
    "df['SATCM75'] = df['SATVR75'] + df['SATMT75'] \n",
    "df['SATCMMID'] = df['SATVRMID'] + df['SATMTMID'] \n",
    "df['UGDS']=pd.qcut(df['UGDS'],3,labels=['Small Size','Medium Size','Large Size'])\n",
    "df['CONTROL']=df['CONTROL'].map(dic['CONTROL'])\n",
    "df['PREDDEG']=df['PREDDEG'].map(dic['PREDDEG'])\n",
    "df['SATCMMID']=new_sat_score(df,'SATCMMID')\n",
    "df=df.dropna(subset=['SATCMMID'])\n",
    "df.head(5)"
   ]
  },
  {
   "cell_type": "markdown",
   "metadata": {
    "button": false,
    "new_sheet": false,
    "run_control": {
     "read_only": false
    }
   },
   "source": [
    "# Variable Name Note"
   ]
  },
  {
   "cell_type": "markdown",
   "metadata": {
    "button": false,
    "new_sheet": false,
    "run_control": {
     "read_only": false
    }
   },
   "source": [
    "In this new dataset, we have ADM_RATE which is the admission rate of this college."
   ]
  },
  {
   "cell_type": "code",
   "execution_count": 30,
   "metadata": {
    "button": false,
    "new_sheet": false,
    "run_control": {
     "read_only": false
    }
   },
   "outputs": [],
   "source": [
    "choice=pd.DataFrame()\n",
    "choice['SAT Score']=np.sort(df['SATCMMID'].unique())\n",
    "choice['BEST CHOICE']=choice['SAT Score'].apply(easy_apply)"
   ]
  },
  {
   "cell_type": "code",
   "execution_count": 31,
   "metadata": {
    "button": false,
    "new_sheet": false,
    "run_control": {
     "read_only": false
    }
   },
   "outputs": [
    {
     "data": {
      "text/html": [
       "<div>\n",
       "<style scoped>\n",
       "    .dataframe tbody tr th:only-of-type {\n",
       "        vertical-align: middle;\n",
       "    }\n",
       "\n",
       "    .dataframe tbody tr th {\n",
       "        vertical-align: top;\n",
       "    }\n",
       "\n",
       "    .dataframe thead th {\n",
       "        text-align: right;\n",
       "    }\n",
       "</style>\n",
       "<table border=\"1\" class=\"dataframe\">\n",
       "  <thead>\n",
       "    <tr style=\"text-align: right;\">\n",
       "      <th></th>\n",
       "      <th>SAT Score</th>\n",
       "      <th>BEST CHOICE</th>\n",
       "    </tr>\n",
       "  </thead>\n",
       "  <tbody>\n",
       "    <tr>\n",
       "      <th>0</th>\n",
       "      <td>700.0</td>\n",
       "      <td>A public, large size, predominantly bachelor's-degree granting school.</td>\n",
       "    </tr>\n",
       "    <tr>\n",
       "      <th>1</th>\n",
       "      <td>750.0</td>\n",
       "      <td>A public, medium size, predominantly bachelor's-degree granting school.</td>\n",
       "    </tr>\n",
       "    <tr>\n",
       "      <th>2</th>\n",
       "      <td>800.0</td>\n",
       "      <td>A public, large size, predominantly bachelor's-degree granting school.</td>\n",
       "    </tr>\n",
       "    <tr>\n",
       "      <th>3</th>\n",
       "      <td>850.0</td>\n",
       "      <td>A private nonprofit, small size, predominantly bachelor's-degree granting school.</td>\n",
       "    </tr>\n",
       "    <tr>\n",
       "      <th>4</th>\n",
       "      <td>900.0</td>\n",
       "      <td>A public, medium size, predominantly associate's-degree granting school.</td>\n",
       "    </tr>\n",
       "    <tr>\n",
       "      <th>5</th>\n",
       "      <td>950.0</td>\n",
       "      <td>A public, medium size, predominantly bachelor's-degree granting school.</td>\n",
       "    </tr>\n",
       "    <tr>\n",
       "      <th>6</th>\n",
       "      <td>1000.0</td>\n",
       "      <td>A private nonprofit, small size, predominantly associate's-degree granting school.</td>\n",
       "    </tr>\n",
       "    <tr>\n",
       "      <th>7</th>\n",
       "      <td>1050.0</td>\n",
       "      <td>A public, medium size, predominantly associate's-degree granting school.</td>\n",
       "    </tr>\n",
       "    <tr>\n",
       "      <th>8</th>\n",
       "      <td>1100.0</td>\n",
       "      <td>A public, medium size, predominantly bachelor's-degree granting school.</td>\n",
       "    </tr>\n",
       "    <tr>\n",
       "      <th>9</th>\n",
       "      <td>1150.0</td>\n",
       "      <td>A private nonprofit, small size, predominantly bachelor's-degree granting school.</td>\n",
       "    </tr>\n",
       "    <tr>\n",
       "      <th>10</th>\n",
       "      <td>1200.0</td>\n",
       "      <td>A public, large size, predominantly bachelor's-degree granting school.</td>\n",
       "    </tr>\n",
       "    <tr>\n",
       "      <th>11</th>\n",
       "      <td>1250.0</td>\n",
       "      <td>A private nonprofit, small size, predominantly bachelor's-degree granting school.</td>\n",
       "    </tr>\n",
       "    <tr>\n",
       "      <th>12</th>\n",
       "      <td>1300.0</td>\n",
       "      <td>A public, large size, predominantly bachelor's-degree granting school.</td>\n",
       "    </tr>\n",
       "    <tr>\n",
       "      <th>13</th>\n",
       "      <td>1350.0</td>\n",
       "      <td>A private nonprofit, small size, predominantly bachelor's-degree granting school.</td>\n",
       "    </tr>\n",
       "    <tr>\n",
       "      <th>14</th>\n",
       "      <td>1400.0</td>\n",
       "      <td>A public, large size, predominantly bachelor's-degree granting school.</td>\n",
       "    </tr>\n",
       "    <tr>\n",
       "      <th>15</th>\n",
       "      <td>1450.0</td>\n",
       "      <td>A private nonprofit, medium size, predominantly bachelor's-degree granting school.</td>\n",
       "    </tr>\n",
       "    <tr>\n",
       "      <th>16</th>\n",
       "      <td>1500.0</td>\n",
       "      <td>A private nonprofit, medium size, predominantly bachelor's-degree granting school.</td>\n",
       "    </tr>\n",
       "  </tbody>\n",
       "</table>\n",
       "</div>"
      ],
      "text/plain": [
       "    SAT Score  \\\n",
       "0   700.0       \n",
       "1   750.0       \n",
       "2   800.0       \n",
       "3   850.0       \n",
       "4   900.0       \n",
       "5   950.0       \n",
       "6   1000.0      \n",
       "7   1050.0      \n",
       "8   1100.0      \n",
       "9   1150.0      \n",
       "10  1200.0      \n",
       "11  1250.0      \n",
       "12  1300.0      \n",
       "13  1350.0      \n",
       "14  1400.0      \n",
       "15  1450.0      \n",
       "16  1500.0      \n",
       "\n",
       "                                                                           BEST CHOICE  \n",
       "0   A public, large size, predominantly bachelor's-degree granting school.              \n",
       "1   A public, medium size, predominantly bachelor's-degree granting school.             \n",
       "2   A public, large size, predominantly bachelor's-degree granting school.              \n",
       "3   A private nonprofit, small size, predominantly bachelor's-degree granting school.   \n",
       "4   A public, medium size, predominantly associate's-degree granting school.            \n",
       "5   A public, medium size, predominantly bachelor's-degree granting school.             \n",
       "6   A private nonprofit, small size, predominantly associate's-degree granting school.  \n",
       "7   A public, medium size, predominantly associate's-degree granting school.            \n",
       "8   A public, medium size, predominantly bachelor's-degree granting school.             \n",
       "9   A private nonprofit, small size, predominantly bachelor's-degree granting school.   \n",
       "10  A public, large size, predominantly bachelor's-degree granting school.              \n",
       "11  A private nonprofit, small size, predominantly bachelor's-degree granting school.   \n",
       "12  A public, large size, predominantly bachelor's-degree granting school.              \n",
       "13  A private nonprofit, small size, predominantly bachelor's-degree granting school.   \n",
       "14  A public, large size, predominantly bachelor's-degree granting school.              \n",
       "15  A private nonprofit, medium size, predominantly bachelor's-degree granting school.  \n",
       "16  A private nonprofit, medium size, predominantly bachelor's-degree granting school.  "
      ]
     },
     "execution_count": 31,
     "metadata": {},
     "output_type": "execute_result"
    }
   ],
   "source": [
    "pd.set_option('display.max_colwidth', -1)\n",
    "choice"
   ]
  },
  {
   "cell_type": "markdown",
   "metadata": {},
   "source": [
    "Using the group average Admission Rate of same School Size, Control type and Preddege type school, this form gives out the best choice for applying school using certain SAT Score."
   ]
  },
  {
   "cell_type": "markdown",
   "metadata": {
    "button": false,
    "new_sheet": false,
    "run_control": {
     "read_only": false
    }
   },
   "source": [
    "# Question 10"
   ]
  },
  {
   "cell_type": "markdown",
   "metadata": {
    "button": false,
    "new_sheet": false,
    "run_control": {
     "read_only": false
    }
   },
   "source": [
    "What average annual net-cost of attendance in college would applicants expect to pay according to his/her SAT score?"
   ]
  },
  {
   "cell_type": "code",
   "execution_count": 32,
   "metadata": {
    "button": false,
    "new_sheet": false,
    "run_control": {
     "read_only": false
    }
   },
   "outputs": [
    {
     "data": {
      "text/html": [
       "<div>\n",
       "<style scoped>\n",
       "    .dataframe tbody tr th:only-of-type {\n",
       "        vertical-align: middle;\n",
       "    }\n",
       "\n",
       "    .dataframe tbody tr th {\n",
       "        vertical-align: top;\n",
       "    }\n",
       "\n",
       "    .dataframe thead th {\n",
       "        text-align: right;\n",
       "    }\n",
       "</style>\n",
       "<table border=\"1\" class=\"dataframe\">\n",
       "  <thead>\n",
       "    <tr style=\"text-align: right;\">\n",
       "      <th></th>\n",
       "      <th>OPEID</th>\n",
       "      <th>CONTROL</th>\n",
       "      <th>UGDS</th>\n",
       "      <th>PREDDEG</th>\n",
       "      <th>SATVRMID</th>\n",
       "      <th>SATMTMID</th>\n",
       "      <th>NPT4_PUB</th>\n",
       "      <th>NPT4_PRIV</th>\n",
       "      <th>SATCMMID</th>\n",
       "      <th>Average_Cost</th>\n",
       "    </tr>\n",
       "  </thead>\n",
       "  <tbody>\n",
       "    <tr>\n",
       "      <th>0</th>\n",
       "      <td>100200</td>\n",
       "      <td>1</td>\n",
       "      <td>4616.0</td>\n",
       "      <td>3</td>\n",
       "      <td>425.0</td>\n",
       "      <td>420.0</td>\n",
       "      <td>15567.0</td>\n",
       "      <td>NaN</td>\n",
       "      <td>800.0</td>\n",
       "      <td>15567.0</td>\n",
       "    </tr>\n",
       "    <tr>\n",
       "      <th>1</th>\n",
       "      <td>105200</td>\n",
       "      <td>1</td>\n",
       "      <td>12047.0</td>\n",
       "      <td>3</td>\n",
       "      <td>560.0</td>\n",
       "      <td>575.0</td>\n",
       "      <td>16475.0</td>\n",
       "      <td>NaN</td>\n",
       "      <td>1100.0</td>\n",
       "      <td>16475.0</td>\n",
       "    </tr>\n",
       "    <tr>\n",
       "      <th>3</th>\n",
       "      <td>105500</td>\n",
       "      <td>1</td>\n",
       "      <td>6346.0</td>\n",
       "      <td>3</td>\n",
       "      <td>590.0</td>\n",
       "      <td>610.0</td>\n",
       "      <td>19423.0</td>\n",
       "      <td>NaN</td>\n",
       "      <td>800.0</td>\n",
       "      <td>19423.0</td>\n",
       "    </tr>\n",
       "    <tr>\n",
       "      <th>4</th>\n",
       "      <td>100500</td>\n",
       "      <td>1</td>\n",
       "      <td>4704.0</td>\n",
       "      <td>3</td>\n",
       "      <td>415.0</td>\n",
       "      <td>410.0</td>\n",
       "      <td>15037.0</td>\n",
       "      <td>NaN</td>\n",
       "      <td>1100.0</td>\n",
       "      <td>15037.0</td>\n",
       "    </tr>\n",
       "    <tr>\n",
       "      <th>5</th>\n",
       "      <td>105100</td>\n",
       "      <td>1</td>\n",
       "      <td>31663.0</td>\n",
       "      <td>3</td>\n",
       "      <td>550.0</td>\n",
       "      <td>555.0</td>\n",
       "      <td>21676.0</td>\n",
       "      <td>NaN</td>\n",
       "      <td>900.0</td>\n",
       "      <td>21676.0</td>\n",
       "    </tr>\n",
       "  </tbody>\n",
       "</table>\n",
       "</div>"
      ],
      "text/plain": [
       "    OPEID  CONTROL     UGDS  PREDDEG  SATVRMID  SATMTMID  NPT4_PUB  NPT4_PRIV  \\\n",
       "0  100200  1        4616.0   3        425.0     420.0     15567.0  NaN          \n",
       "1  105200  1        12047.0  3        560.0     575.0     16475.0  NaN          \n",
       "3  105500  1        6346.0   3        590.0     610.0     19423.0  NaN          \n",
       "4  100500  1        4704.0   3        415.0     410.0     15037.0  NaN          \n",
       "5  105100  1        31663.0  3        550.0     555.0     21676.0  NaN          \n",
       "\n",
       "   SATCMMID  Average_Cost  \n",
       "0  800.0     15567.0       \n",
       "1  1100.0    16475.0       \n",
       "3  800.0     19423.0       \n",
       "4  1100.0    15037.0       \n",
       "5  900.0     21676.0       "
      ]
     },
     "execution_count": 32,
     "metadata": {},
     "output_type": "execute_result"
    }
   ],
   "source": [
    "#For this question, we need a new dataset which contains the average cost per year for one college\n",
    "df=college_all[['OPEID','CONTROL','UGDS','PREDDEG',\\\n",
    "           'SATVRMID','SATMTMID',\\\n",
    "            \"NPT4_PUB\",\"NPT4_PRIV\"]].dropna(subset=['SATVRMID','SATMTMID']).\\\n",
    "            replace('PrivacySuppressed',0).fillna(0)\n",
    "df['SATCMMID'] = df['SATVRMID'] + df['SATMTMID'] \n",
    "df['Average_Cost']=df[\"NPT4_PUB\"]+df[\"NPT4_PRIV\"]\n",
    "df=df.replace(0,np.NaN).dropna(subset=['Average_Cost'])\n",
    "df['SATCMMID']=new_sat_score(df,'SATCMMID')\n",
    "df=df.dropna(subset=['SATCMMID'])\n",
    "df.head(5)"
   ]
  },
  {
   "cell_type": "markdown",
   "metadata": {
    "button": false,
    "new_sheet": false,
    "run_control": {
     "read_only": false
    }
   },
   "source": [
    "Note:\n",
    "    NPT4_PUB: Average Cost per year for public school\n",
    "    NPT4_PRIV: Average Cost per year for private school"
   ]
  },
  {
   "cell_type": "code",
   "execution_count": 33,
   "metadata": {
    "button": false,
    "new_sheet": false,
    "run_control": {
     "read_only": false
    }
   },
   "outputs": [
    {
     "data": {
      "text/html": [
       "<div>\n",
       "<style scoped>\n",
       "    .dataframe tbody tr th:only-of-type {\n",
       "        vertical-align: middle;\n",
       "    }\n",
       "\n",
       "    .dataframe tbody tr th {\n",
       "        vertical-align: top;\n",
       "    }\n",
       "\n",
       "    .dataframe thead th {\n",
       "        text-align: right;\n",
       "    }\n",
       "</style>\n",
       "<table border=\"1\" class=\"dataframe\">\n",
       "  <thead>\n",
       "    <tr style=\"text-align: right;\">\n",
       "      <th></th>\n",
       "      <th>SAT Score</th>\n",
       "      <th>Expect_Cost_Per_Year</th>\n",
       "    </tr>\n",
       "  </thead>\n",
       "  <tbody>\n",
       "    <tr>\n",
       "      <th>0</th>\n",
       "      <td>700.0</td>\n",
       "      <td>12645.000000</td>\n",
       "    </tr>\n",
       "    <tr>\n",
       "      <th>1</th>\n",
       "      <td>750.0</td>\n",
       "      <td>19048.666667</td>\n",
       "    </tr>\n",
       "    <tr>\n",
       "      <th>2</th>\n",
       "      <td>800.0</td>\n",
       "      <td>15109.142857</td>\n",
       "    </tr>\n",
       "    <tr>\n",
       "      <th>3</th>\n",
       "      <td>850.0</td>\n",
       "      <td>19604.000000</td>\n",
       "    </tr>\n",
       "    <tr>\n",
       "      <th>4</th>\n",
       "      <td>900.0</td>\n",
       "      <td>19492.950000</td>\n",
       "    </tr>\n",
       "    <tr>\n",
       "      <th>5</th>\n",
       "      <td>950.0</td>\n",
       "      <td>20190.985294</td>\n",
       "    </tr>\n",
       "    <tr>\n",
       "      <th>6</th>\n",
       "      <td>1000.0</td>\n",
       "      <td>19050.319149</td>\n",
       "    </tr>\n",
       "    <tr>\n",
       "      <th>7</th>\n",
       "      <td>1050.0</td>\n",
       "      <td>21120.509804</td>\n",
       "    </tr>\n",
       "    <tr>\n",
       "      <th>8</th>\n",
       "      <td>1100.0</td>\n",
       "      <td>19981.264706</td>\n",
       "    </tr>\n",
       "    <tr>\n",
       "      <th>9</th>\n",
       "      <td>1150.0</td>\n",
       "      <td>19060.692308</td>\n",
       "    </tr>\n",
       "    <tr>\n",
       "      <th>10</th>\n",
       "      <td>1200.0</td>\n",
       "      <td>18664.937500</td>\n",
       "    </tr>\n",
       "    <tr>\n",
       "      <th>11</th>\n",
       "      <td>1250.0</td>\n",
       "      <td>19002.125000</td>\n",
       "    </tr>\n",
       "    <tr>\n",
       "      <th>12</th>\n",
       "      <td>1300.0</td>\n",
       "      <td>19336.000000</td>\n",
       "    </tr>\n",
       "    <tr>\n",
       "      <th>13</th>\n",
       "      <td>1350.0</td>\n",
       "      <td>18664.444444</td>\n",
       "    </tr>\n",
       "    <tr>\n",
       "      <th>14</th>\n",
       "      <td>1400.0</td>\n",
       "      <td>21738.500000</td>\n",
       "    </tr>\n",
       "    <tr>\n",
       "      <th>15</th>\n",
       "      <td>1450.0</td>\n",
       "      <td>28527.000000</td>\n",
       "    </tr>\n",
       "    <tr>\n",
       "      <th>16</th>\n",
       "      <td>1500.0</td>\n",
       "      <td>19577.000000</td>\n",
       "    </tr>\n",
       "  </tbody>\n",
       "</table>\n",
       "</div>"
      ],
      "text/plain": [
       "    SAT Score  Expect_Cost_Per_Year\n",
       "0   700.0      12645.000000        \n",
       "1   750.0      19048.666667        \n",
       "2   800.0      15109.142857        \n",
       "3   850.0      19604.000000        \n",
       "4   900.0      19492.950000        \n",
       "5   950.0      20190.985294        \n",
       "6   1000.0     19050.319149        \n",
       "7   1050.0     21120.509804        \n",
       "8   1100.0     19981.264706        \n",
       "9   1150.0     19060.692308        \n",
       "10  1200.0     18664.937500        \n",
       "11  1250.0     19002.125000        \n",
       "12  1300.0     19336.000000        \n",
       "13  1350.0     18664.444444        \n",
       "14  1400.0     21738.500000        \n",
       "15  1450.0     28527.000000        \n",
       "16  1500.0     19577.000000        "
      ]
     },
     "execution_count": 33,
     "metadata": {},
     "output_type": "execute_result"
    }
   ],
   "source": [
    "choice=pd.DataFrame()\n",
    "choice['SAT Score']=np.sort(df['SATCMMID'].unique())\n",
    "choice['Expect_Cost_Per_Year']=choice['SAT Score'].apply(expect_tuition)\n",
    "choice=choice.dropna()\n",
    "choice"
   ]
  },
  {
   "cell_type": "markdown",
   "metadata": {},
   "source": [
    "This form above gives the expected annual net-cost of college for applicants with different sat scores."
   ]
  },
  {
   "cell_type": "markdown",
   "metadata": {
    "button": false,
    "new_sheet": false,
    "run_control": {
     "read_only": false
    }
   },
   "source": [
    "# Question 11"
   ]
  },
  {
   "cell_type": "markdown",
   "metadata": {
    "button": false,
    "new_sheet": false,
    "run_control": {
     "read_only": false
    }
   },
   "source": [
    "What is the probability that an applicant can graduate on-time from college based on his/her SAT score?"
   ]
  },
  {
   "cell_type": "code",
   "execution_count": 34,
   "metadata": {
    "button": false,
    "new_sheet": false,
    "run_control": {
     "read_only": false
    }
   },
   "outputs": [
    {
     "data": {
      "text/html": [
       "<div>\n",
       "<style scoped>\n",
       "    .dataframe tbody tr th:only-of-type {\n",
       "        vertical-align: middle;\n",
       "    }\n",
       "\n",
       "    .dataframe tbody tr th {\n",
       "        vertical-align: top;\n",
       "    }\n",
       "\n",
       "    .dataframe thead th {\n",
       "        text-align: right;\n",
       "    }\n",
       "</style>\n",
       "<table border=\"1\" class=\"dataframe\">\n",
       "  <thead>\n",
       "    <tr style=\"text-align: right;\">\n",
       "      <th></th>\n",
       "      <th>OPEID</th>\n",
       "      <th>CONTROL</th>\n",
       "      <th>UGDS</th>\n",
       "      <th>PREDDEG</th>\n",
       "      <th>SATVRMID</th>\n",
       "      <th>SATMTMID</th>\n",
       "      <th>C150_4</th>\n",
       "      <th>SATCMMID</th>\n",
       "    </tr>\n",
       "  </thead>\n",
       "  <tbody>\n",
       "    <tr>\n",
       "      <th>0</th>\n",
       "      <td>100200</td>\n",
       "      <td>1</td>\n",
       "      <td>4616.0</td>\n",
       "      <td>3</td>\n",
       "      <td>425.0</td>\n",
       "      <td>420.0</td>\n",
       "      <td>0.2749</td>\n",
       "      <td>800.0</td>\n",
       "    </tr>\n",
       "    <tr>\n",
       "      <th>1</th>\n",
       "      <td>105200</td>\n",
       "      <td>1</td>\n",
       "      <td>12047.0</td>\n",
       "      <td>3</td>\n",
       "      <td>560.0</td>\n",
       "      <td>575.0</td>\n",
       "      <td>0.5309</td>\n",
       "      <td>1100.0</td>\n",
       "    </tr>\n",
       "    <tr>\n",
       "      <th>3</th>\n",
       "      <td>105500</td>\n",
       "      <td>1</td>\n",
       "      <td>6346.0</td>\n",
       "      <td>3</td>\n",
       "      <td>590.0</td>\n",
       "      <td>610.0</td>\n",
       "      <td>0.4867</td>\n",
       "      <td>800.0</td>\n",
       "    </tr>\n",
       "    <tr>\n",
       "      <th>4</th>\n",
       "      <td>100500</td>\n",
       "      <td>1</td>\n",
       "      <td>4704.0</td>\n",
       "      <td>3</td>\n",
       "      <td>415.0</td>\n",
       "      <td>410.0</td>\n",
       "      <td>0.2165</td>\n",
       "      <td>1100.0</td>\n",
       "    </tr>\n",
       "    <tr>\n",
       "      <th>5</th>\n",
       "      <td>105100</td>\n",
       "      <td>1</td>\n",
       "      <td>31663.0</td>\n",
       "      <td>3</td>\n",
       "      <td>550.0</td>\n",
       "      <td>555.0</td>\n",
       "      <td>0.6871</td>\n",
       "      <td>900.0</td>\n",
       "    </tr>\n",
       "  </tbody>\n",
       "</table>\n",
       "</div>"
      ],
      "text/plain": [
       "    OPEID  CONTROL     UGDS  PREDDEG  SATVRMID  SATMTMID  C150_4  SATCMMID\n",
       "0  100200  1        4616.0   3        425.0     420.0     0.2749  800.0   \n",
       "1  105200  1        12047.0  3        560.0     575.0     0.5309  1100.0  \n",
       "3  105500  1        6346.0   3        590.0     610.0     0.4867  800.0   \n",
       "4  100500  1        4704.0   3        415.0     410.0     0.2165  1100.0  \n",
       "5  105100  1        31663.0  3        550.0     555.0     0.6871  900.0   "
      ]
     },
     "execution_count": 34,
     "metadata": {},
     "output_type": "execute_result"
    }
   ],
   "source": [
    "#For this question, we are importing the new dataset which contain the on-time completion rate for each college \n",
    "df=college_all[['OPEID','CONTROL','UGDS','PREDDEG',\\\n",
    "           'SATVRMID','SATMTMID',\\\n",
    "            \"C150_4\"]].dropna(subset=['SATVRMID','SATMTMID','C150_4']).\\\n",
    "            replace('PrivacySuppressed',0).fillna(0)\n",
    "df['SATCMMID'] = df['SATVRMID'] + df['SATMTMID'] \n",
    "df['SATCMMID']=new_sat_score(df,'SATCMMID')\n",
    "df=df.dropna(subset=['SATCMMID'])\n",
    "df.head(5)"
   ]
  },
  {
   "cell_type": "markdown",
   "metadata": {
    "button": false,
    "new_sheet": false,
    "run_control": {
     "read_only": false
    }
   },
   "source": [
    "Note:\n",
    "    C150_4: the on-time completion rate"
   ]
  },
  {
   "cell_type": "code",
   "execution_count": 35,
   "metadata": {
    "button": false,
    "new_sheet": false,
    "run_control": {
     "read_only": false
    }
   },
   "outputs": [
    {
     "data": {
      "text/html": [
       "<div>\n",
       "<style scoped>\n",
       "    .dataframe tbody tr th:only-of-type {\n",
       "        vertical-align: middle;\n",
       "    }\n",
       "\n",
       "    .dataframe tbody tr th {\n",
       "        vertical-align: top;\n",
       "    }\n",
       "\n",
       "    .dataframe thead th {\n",
       "        text-align: right;\n",
       "    }\n",
       "</style>\n",
       "<table border=\"1\" class=\"dataframe\">\n",
       "  <thead>\n",
       "    <tr style=\"text-align: right;\">\n",
       "      <th></th>\n",
       "      <th>SAT Score</th>\n",
       "      <th>Expect_Completion_Rate</th>\n",
       "    </tr>\n",
       "  </thead>\n",
       "  <tbody>\n",
       "    <tr>\n",
       "      <th>0</th>\n",
       "      <td>700.0</td>\n",
       "      <td>87.925%</td>\n",
       "    </tr>\n",
       "    <tr>\n",
       "      <th>1</th>\n",
       "      <td>750.0</td>\n",
       "      <td>52.42%</td>\n",
       "    </tr>\n",
       "    <tr>\n",
       "      <th>2</th>\n",
       "      <td>800.0</td>\n",
       "      <td>46.51285714285714%</td>\n",
       "    </tr>\n",
       "    <tr>\n",
       "      <th>3</th>\n",
       "      <td>850.0</td>\n",
       "      <td>54.68142857142857%</td>\n",
       "    </tr>\n",
       "    <tr>\n",
       "      <th>4</th>\n",
       "      <td>900.0</td>\n",
       "      <td>54.454418604651146%</td>\n",
       "    </tr>\n",
       "    <tr>\n",
       "      <th>5</th>\n",
       "      <td>950.0</td>\n",
       "      <td>56.36741379310345%</td>\n",
       "    </tr>\n",
       "    <tr>\n",
       "      <th>6</th>\n",
       "      <td>1000.0</td>\n",
       "      <td>55.33844827586204%</td>\n",
       "    </tr>\n",
       "    <tr>\n",
       "      <th>7</th>\n",
       "      <td>1050.0</td>\n",
       "      <td>55.88121951219512%</td>\n",
       "    </tr>\n",
       "    <tr>\n",
       "      <th>8</th>\n",
       "      <td>1100.0</td>\n",
       "      <td>55.219666666666654%</td>\n",
       "    </tr>\n",
       "    <tr>\n",
       "      <th>9</th>\n",
       "      <td>1150.0</td>\n",
       "      <td>54.274347826086945%</td>\n",
       "    </tr>\n",
       "    <tr>\n",
       "      <th>10</th>\n",
       "      <td>1200.0</td>\n",
       "      <td>55.790625000000006%</td>\n",
       "    </tr>\n",
       "    <tr>\n",
       "      <th>11</th>\n",
       "      <td>1250.0</td>\n",
       "      <td>54.72749999999999%</td>\n",
       "    </tr>\n",
       "    <tr>\n",
       "      <th>12</th>\n",
       "      <td>1300.0</td>\n",
       "      <td>55.10999999999999%</td>\n",
       "    </tr>\n",
       "    <tr>\n",
       "      <th>13</th>\n",
       "      <td>1350.0</td>\n",
       "      <td>62.08333333333332%</td>\n",
       "    </tr>\n",
       "    <tr>\n",
       "      <th>14</th>\n",
       "      <td>1400.0</td>\n",
       "      <td>64.69333333333334%</td>\n",
       "    </tr>\n",
       "    <tr>\n",
       "      <th>15</th>\n",
       "      <td>1450.0</td>\n",
       "      <td>45.264%</td>\n",
       "    </tr>\n",
       "    <tr>\n",
       "      <th>16</th>\n",
       "      <td>1500.0</td>\n",
       "      <td>66.50500000000001%</td>\n",
       "    </tr>\n",
       "  </tbody>\n",
       "</table>\n",
       "</div>"
      ],
      "text/plain": [
       "    SAT Score Expect_Completion_Rate\n",
       "0   700.0      87.925%              \n",
       "1   750.0      52.42%               \n",
       "2   800.0      46.51285714285714%   \n",
       "3   850.0      54.68142857142857%   \n",
       "4   900.0      54.454418604651146%  \n",
       "5   950.0      56.36741379310345%   \n",
       "6   1000.0     55.33844827586204%   \n",
       "7   1050.0     55.88121951219512%   \n",
       "8   1100.0     55.219666666666654%  \n",
       "9   1150.0     54.274347826086945%  \n",
       "10  1200.0     55.790625000000006%  \n",
       "11  1250.0     54.72749999999999%   \n",
       "12  1300.0     55.10999999999999%   \n",
       "13  1350.0     62.08333333333332%   \n",
       "14  1400.0     64.69333333333334%   \n",
       "15  1450.0     45.264%              \n",
       "16  1500.0     66.50500000000001%   "
      ]
     },
     "execution_count": 35,
     "metadata": {},
     "output_type": "execute_result"
    }
   ],
   "source": [
    "choice=pd.DataFrame()\n",
    "choice['SAT Score']=np.sort(df['SATCMMID'].unique())\n",
    "choice['Expect_Completion_Rate']=choice['SAT Score'].apply(expect_completion_rate)\n",
    "choice=choice.dropna()\n",
    "choice"
   ]
  },
  {
   "cell_type": "markdown",
   "metadata": {},
   "source": [
    "This form above indicates the average on-time gradution rate for applicants with different SAT scores."
   ]
  },
  {
   "cell_type": "markdown",
   "metadata": {
    "button": false,
    "new_sheet": false,
    "run_control": {
     "read_only": false
    }
   },
   "source": [
    "# Conclusion:"
   ]
  },
  {
   "cell_type": "markdown",
   "metadata": {
    "button": false,
    "new_sheet": false,
    "run_control": {
     "read_only": false
    }
   },
   "source": [
    "---\n",
    "\n",
    "**This project focuses on the relationship between students’ SAT scores at admission and their subsequent probability of completion within 150% of the expected completion time. These probability are further broken down by the school types, degree types, and school sizes by undergraduate enrollment, respectively. It is observed that as students’ SAT score increases, their chances of completion also increases linearly. Higher SAT score students tend to attend private nonprofit, predominantly bachelor’s degree granting universities regardless of school size, while lower score students prefer private nonprofit, small size, predominantly bachelor’s degree granting universities. These choices would maximize their completion rate within 150% of their expected graduation. However, this analysis is conducted on a rather small sample size of around 1200, because only these many data regarding SAT scores were provided. Also, most of the schools that provided their scores are predominantly bachelor’s degree granting. This might be due to that other degrees granting schools do not require the SAT score, such as some associate’s degree granting schools and graduate’s degree granting schools. Moreover, there might be many other confounding factors regarding  students’ completion rate, such as amount of student loan, cost of tuition, whether a student had transferred, etc. From such a small sample size, this analysis is only a suggested indicative summary of the kind of institution that a student most likely will attend based on their SAT scores to maximize their completion rate.**\n"
   ]
  },
  {
   "cell_type": "markdown",
   "metadata": {
    "button": false,
    "new_sheet": false,
    "run_control": {
     "read_only": false
    }
   },
   "source": [
    "# Ethical Considerations: \n"
   ]
  },
  {
   "cell_type": "markdown",
   "metadata": {
    "button": false,
    "new_sheet": false,
    "run_control": {
     "read_only": false
    }
   },
   "source": [
    "The problem which this project intends to solve does not involve too many ethical concerns. Since it is the dataset published by the US government into publicity and it has a lot of null values which represent the privacy some school wants to keep, there should be no ethical problem of this project. The study's goal of this project is to help general college applicants to choose their fittable college only. Lots of detailed information of School like the average earning of students graduated from each school is no longer available to protect each school's privacy.\n"
   ]
  },
  {
   "cell_type": "markdown",
   "metadata": {},
   "source": [
    "## Ethical concerns of consider the whole data science process\n",
    "\n",
    "The collected data are extracted from the U.S. Department of Education, which is a open source and give all access to viewers. Every school has the liberty to submit their data to the data source. Certainly, some schools choose to decline to provide such information to the Department of Education, and those schools are marked NAN in the original data, which we delete out during the data cleaning. The problems we researched and the analysis of each question do not have the potential of leaking any kind of privacy informations. The conclusions are not personally point any kind of schools which are discussed in the topic. The reference to the data was clear and legitimate.\n"
   ]
  },
  {
   "cell_type": "markdown",
   "metadata": {
    "button": false,
    "new_sheet": false,
    "run_control": {
     "read_only": false
    }
   },
   "source": [
    "Done! Thank you for reading."
   ]
  },
  {
   "cell_type": "code",
   "execution_count": null,
   "metadata": {
    "button": false,
    "new_sheet": false,
    "run_control": {
     "read_only": false
    }
   },
   "outputs": [],
   "source": []
  }
 ],
 "metadata": {
  "kernelspec": {
   "display_name": "Python 3",
   "language": "python",
   "name": "python3"
  },
  "language_info": {
   "codemirror_mode": {
    "name": "ipython",
    "version": 3
   },
   "file_extension": ".py",
   "mimetype": "text/x-python",
   "name": "python",
   "nbconvert_exporter": "python",
   "pygments_lexer": "ipython3",
   "version": "3.7.3"
  }
 },
 "nbformat": 4,
 "nbformat_minor": 2
}